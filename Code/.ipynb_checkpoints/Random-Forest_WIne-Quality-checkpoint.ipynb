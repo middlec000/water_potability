{
 "cells": [
  {
   "cell_type": "markdown",
   "id": "32410f24-88a5-483d-867e-da546257db5b",
   "metadata": {},
   "source": [
    "# Wine Quality\n",
    "\n",
    "Practice example from: https://www.simplilearn.com/tutorials/data-science-tutorial/random-forest-in-r "
   ]
  },
  {
   "cell_type": "markdown",
   "id": "f36330ef-5584-469f-88c6-c33942214ad3",
   "metadata": {},
   "source": [
    "# Import and Explore Data"
   ]
  },
  {
   "cell_type": "code",
   "execution_count": 1,
   "id": "71b74b78-61f0-4e4d-9bba-ef71ada29e64",
   "metadata": {},
   "outputs": [
    {
     "data": {
      "text/html": [
       "<table>\n",
       "<thead><tr><th scope=col>fixed.acidity</th><th scope=col>volatile.acidity</th><th scope=col>citric.acid</th><th scope=col>residual.sugar</th><th scope=col>chlorides</th><th scope=col>free.sulfur.dioxide</th><th scope=col>total.sulfur.dioxide</th><th scope=col>density</th><th scope=col>pH</th><th scope=col>sulphates</th><th scope=col>alcohol</th><th scope=col>quality</th></tr></thead>\n",
       "<tbody>\n",
       "\t<tr><td> 7.4  </td><td>0.70  </td><td>0.00  </td><td>1.9   </td><td>0.076 </td><td>11    </td><td>34    </td><td>0.9978</td><td>3.51  </td><td>0.56  </td><td>9.4   </td><td>5     </td></tr>\n",
       "\t<tr><td> 7.8  </td><td>0.88  </td><td>0.00  </td><td>2.6   </td><td>0.098 </td><td>25    </td><td>67    </td><td>0.9968</td><td>3.20  </td><td>0.68  </td><td>9.8   </td><td>5     </td></tr>\n",
       "\t<tr><td> 7.8  </td><td>0.76  </td><td>0.04  </td><td>2.3   </td><td>0.092 </td><td>15    </td><td>54    </td><td>0.9970</td><td>3.26  </td><td>0.65  </td><td>9.8   </td><td>5     </td></tr>\n",
       "\t<tr><td>11.2  </td><td>0.28  </td><td>0.56  </td><td>1.9   </td><td>0.075 </td><td>17    </td><td>60    </td><td>0.9980</td><td>3.16  </td><td>0.58  </td><td>9.8   </td><td>6     </td></tr>\n",
       "\t<tr><td> 7.4  </td><td>0.70  </td><td>0.00  </td><td>1.9   </td><td>0.076 </td><td>11    </td><td>34    </td><td>0.9978</td><td>3.51  </td><td>0.56  </td><td>9.4   </td><td>5     </td></tr>\n",
       "\t<tr><td> 7.4  </td><td>0.66  </td><td>0.00  </td><td>1.8   </td><td>0.075 </td><td>13    </td><td>40    </td><td>0.9978</td><td>3.51  </td><td>0.56  </td><td>9.4   </td><td>5     </td></tr>\n",
       "</tbody>\n",
       "</table>\n"
      ],
      "text/latex": [
       "\\begin{tabular}{r|llllllllllll}\n",
       " fixed.acidity & volatile.acidity & citric.acid & residual.sugar & chlorides & free.sulfur.dioxide & total.sulfur.dioxide & density & pH & sulphates & alcohol & quality\\\\\n",
       "\\hline\n",
       "\t  7.4   & 0.70   & 0.00   & 1.9    & 0.076  & 11     & 34     & 0.9978 & 3.51   & 0.56   & 9.4    & 5     \\\\\n",
       "\t  7.8   & 0.88   & 0.00   & 2.6    & 0.098  & 25     & 67     & 0.9968 & 3.20   & 0.68   & 9.8    & 5     \\\\\n",
       "\t  7.8   & 0.76   & 0.04   & 2.3    & 0.092  & 15     & 54     & 0.9970 & 3.26   & 0.65   & 9.8    & 5     \\\\\n",
       "\t 11.2   & 0.28   & 0.56   & 1.9    & 0.075  & 17     & 60     & 0.9980 & 3.16   & 0.58   & 9.8    & 6     \\\\\n",
       "\t  7.4   & 0.70   & 0.00   & 1.9    & 0.076  & 11     & 34     & 0.9978 & 3.51   & 0.56   & 9.4    & 5     \\\\\n",
       "\t  7.4   & 0.66   & 0.00   & 1.8    & 0.075  & 13     & 40     & 0.9978 & 3.51   & 0.56   & 9.4    & 5     \\\\\n",
       "\\end{tabular}\n"
      ],
      "text/markdown": [
       "\n",
       "| fixed.acidity | volatile.acidity | citric.acid | residual.sugar | chlorides | free.sulfur.dioxide | total.sulfur.dioxide | density | pH | sulphates | alcohol | quality |\n",
       "|---|---|---|---|---|---|---|---|---|---|---|---|\n",
       "|  7.4   | 0.70   | 0.00   | 1.9    | 0.076  | 11     | 34     | 0.9978 | 3.51   | 0.56   | 9.4    | 5      |\n",
       "|  7.8   | 0.88   | 0.00   | 2.6    | 0.098  | 25     | 67     | 0.9968 | 3.20   | 0.68   | 9.8    | 5      |\n",
       "|  7.8   | 0.76   | 0.04   | 2.3    | 0.092  | 15     | 54     | 0.9970 | 3.26   | 0.65   | 9.8    | 5      |\n",
       "| 11.2   | 0.28   | 0.56   | 1.9    | 0.075  | 17     | 60     | 0.9980 | 3.16   | 0.58   | 9.8    | 6      |\n",
       "|  7.4   | 0.70   | 0.00   | 1.9    | 0.076  | 11     | 34     | 0.9978 | 3.51   | 0.56   | 9.4    | 5      |\n",
       "|  7.4   | 0.66   | 0.00   | 1.8    | 0.075  | 13     | 40     | 0.9978 | 3.51   | 0.56   | 9.4    | 5      |\n",
       "\n"
      ],
      "text/plain": [
       "  fixed.acidity volatile.acidity citric.acid residual.sugar chlorides\n",
       "1  7.4          0.70             0.00        1.9            0.076    \n",
       "2  7.8          0.88             0.00        2.6            0.098    \n",
       "3  7.8          0.76             0.04        2.3            0.092    \n",
       "4 11.2          0.28             0.56        1.9            0.075    \n",
       "5  7.4          0.70             0.00        1.9            0.076    \n",
       "6  7.4          0.66             0.00        1.8            0.075    \n",
       "  free.sulfur.dioxide total.sulfur.dioxide density pH   sulphates alcohol\n",
       "1 11                  34                   0.9978  3.51 0.56      9.4    \n",
       "2 25                  67                   0.9968  3.20 0.68      9.8    \n",
       "3 15                  54                   0.9970  3.26 0.65      9.8    \n",
       "4 17                  60                   0.9980  3.16 0.58      9.8    \n",
       "5 11                  34                   0.9978  3.51 0.56      9.4    \n",
       "6 13                  40                   0.9978  3.51 0.56      9.4    \n",
       "  quality\n",
       "1 5      \n",
       "2 5      \n",
       "3 5      \n",
       "4 6      \n",
       "5 5      \n",
       "6 5      "
      ]
     },
     "metadata": {},
     "output_type": "display_data"
    }
   ],
   "source": [
    "wine <- read.csv(url(\"https://archive.ics.uci.edu/ml/machine-learning-databases/wine-quality/winequality-red.csv\"), header = TRUE, sep = \";\") \n",
    "\n",
    "head(wine)"
   ]
  },
  {
   "cell_type": "code",
   "execution_count": 2,
   "id": "364e4212-5605-494e-b985-fcc33aacb3c0",
   "metadata": {},
   "outputs": [
    {
     "data": {
      "text/html": [
       "<table>\n",
       "<thead><tr><th></th><th scope=col>Min.</th><th scope=col>1st Qu.</th><th scope=col>Median</th><th scope=col>Mean</th><th scope=col>3rd Qu.</th><th scope=col>Max.</th></tr></thead>\n",
       "<tbody>\n",
       "\t<tr><th scope=row>fixed.acidity</th><td>4.60000    </td><td> 7.1000    </td><td> 7.90000   </td><td> 8.31963727</td><td> 9.200000  </td><td> 15.90000  </td></tr>\n",
       "\t<tr><th scope=row>volatile.acidity</th><td>0.12000    </td><td> 0.3900    </td><td> 0.52000   </td><td> 0.52782051</td><td> 0.640000  </td><td>  1.58000  </td></tr>\n",
       "\t<tr><th scope=row>citric.acid</th><td>0.00000    </td><td> 0.0900    </td><td> 0.26000   </td><td> 0.27097561</td><td> 0.420000  </td><td>  1.00000  </td></tr>\n",
       "\t<tr><th scope=row>residual.sugar</th><td>0.90000    </td><td> 1.9000    </td><td> 2.20000   </td><td> 2.53880550</td><td> 2.600000  </td><td> 15.50000  </td></tr>\n",
       "\t<tr><th scope=row>chlorides</th><td>0.01200    </td><td> 0.0700    </td><td> 0.07900   </td><td> 0.08746654</td><td> 0.090000  </td><td>  0.61100  </td></tr>\n",
       "\t<tr><th scope=row>free.sulfur.dioxide</th><td>1.00000    </td><td> 7.0000    </td><td>14.00000   </td><td>15.87492183</td><td>21.000000  </td><td> 72.00000  </td></tr>\n",
       "\t<tr><th scope=row>total.sulfur.dioxide</th><td>6.00000    </td><td>22.0000    </td><td>38.00000   </td><td>46.46779237</td><td>62.000000  </td><td>289.00000  </td></tr>\n",
       "\t<tr><th scope=row>density</th><td>0.99007    </td><td> 0.9956    </td><td> 0.99675   </td><td> 0.99674668</td><td> 0.997835  </td><td>  1.00369  </td></tr>\n",
       "\t<tr><th scope=row>pH</th><td>2.74000    </td><td> 3.2100    </td><td> 3.31000   </td><td> 3.31111320</td><td> 3.400000  </td><td>  4.01000  </td></tr>\n",
       "\t<tr><th scope=row>sulphates</th><td>0.33000    </td><td> 0.5500    </td><td> 0.62000   </td><td> 0.65814884</td><td> 0.730000  </td><td>  2.00000  </td></tr>\n",
       "\t<tr><th scope=row>alcohol</th><td>8.40000    </td><td> 9.5000    </td><td>10.20000   </td><td>10.42298311</td><td>11.100000  </td><td> 14.90000  </td></tr>\n",
       "\t<tr><th scope=row>quality</th><td>3.00000    </td><td> 5.0000    </td><td> 6.00000   </td><td> 5.63602251</td><td> 6.000000  </td><td>  8.00000  </td></tr>\n",
       "</tbody>\n",
       "</table>\n"
      ],
      "text/latex": [
       "\\begin{tabular}{r|llllll}\n",
       "  & Min. & 1st Qu. & Median & Mean & 3rd Qu. & Max.\\\\\n",
       "\\hline\n",
       "\tfixed.acidity & 4.60000     &  7.1000     &  7.90000    &  8.31963727 &  9.200000   &  15.90000  \\\\\n",
       "\tvolatile.acidity & 0.12000     &  0.3900     &  0.52000    &  0.52782051 &  0.640000   &   1.58000  \\\\\n",
       "\tcitric.acid & 0.00000     &  0.0900     &  0.26000    &  0.27097561 &  0.420000   &   1.00000  \\\\\n",
       "\tresidual.sugar & 0.90000     &  1.9000     &  2.20000    &  2.53880550 &  2.600000   &  15.50000  \\\\\n",
       "\tchlorides & 0.01200     &  0.0700     &  0.07900    &  0.08746654 &  0.090000   &   0.61100  \\\\\n",
       "\tfree.sulfur.dioxide & 1.00000     &  7.0000     & 14.00000    & 15.87492183 & 21.000000   &  72.00000  \\\\\n",
       "\ttotal.sulfur.dioxide & 6.00000     & 22.0000     & 38.00000    & 46.46779237 & 62.000000   & 289.00000  \\\\\n",
       "\tdensity & 0.99007     &  0.9956     &  0.99675    &  0.99674668 &  0.997835   &   1.00369  \\\\\n",
       "\tpH & 2.74000     &  3.2100     &  3.31000    &  3.31111320 &  3.400000   &   4.01000  \\\\\n",
       "\tsulphates & 0.33000     &  0.5500     &  0.62000    &  0.65814884 &  0.730000   &   2.00000  \\\\\n",
       "\talcohol & 8.40000     &  9.5000     & 10.20000    & 10.42298311 & 11.100000   &  14.90000  \\\\\n",
       "\tquality & 3.00000     &  5.0000     &  6.00000    &  5.63602251 &  6.000000   &   8.00000  \\\\\n",
       "\\end{tabular}\n"
      ],
      "text/markdown": [
       "\n",
       "| <!--/--> | Min. | 1st Qu. | Median | Mean | 3rd Qu. | Max. |\n",
       "|---|---|---|---|---|---|---|\n",
       "| fixed.acidity | 4.60000     |  7.1000     |  7.90000    |  8.31963727 |  9.200000   |  15.90000   |\n",
       "| volatile.acidity | 0.12000     |  0.3900     |  0.52000    |  0.52782051 |  0.640000   |   1.58000   |\n",
       "| citric.acid | 0.00000     |  0.0900     |  0.26000    |  0.27097561 |  0.420000   |   1.00000   |\n",
       "| residual.sugar | 0.90000     |  1.9000     |  2.20000    |  2.53880550 |  2.600000   |  15.50000   |\n",
       "| chlorides | 0.01200     |  0.0700     |  0.07900    |  0.08746654 |  0.090000   |   0.61100   |\n",
       "| free.sulfur.dioxide | 1.00000     |  7.0000     | 14.00000    | 15.87492183 | 21.000000   |  72.00000   |\n",
       "| total.sulfur.dioxide | 6.00000     | 22.0000     | 38.00000    | 46.46779237 | 62.000000   | 289.00000   |\n",
       "| density | 0.99007     |  0.9956     |  0.99675    |  0.99674668 |  0.997835   |   1.00369   |\n",
       "| pH | 2.74000     |  3.2100     |  3.31000    |  3.31111320 |  3.400000   |   4.01000   |\n",
       "| sulphates | 0.33000     |  0.5500     |  0.62000    |  0.65814884 |  0.730000   |   2.00000   |\n",
       "| alcohol | 8.40000     |  9.5000     | 10.20000    | 10.42298311 | 11.100000   |  14.90000   |\n",
       "| quality | 3.00000     |  5.0000     |  6.00000    |  5.63602251 |  6.000000   |   8.00000   |\n",
       "\n"
      ],
      "text/plain": [
       "                     Min.    1st Qu. Median   Mean        3rd Qu.   Max.     \n",
       "fixed.acidity        4.60000  7.1000  7.90000  8.31963727  9.200000  15.90000\n",
       "volatile.acidity     0.12000  0.3900  0.52000  0.52782051  0.640000   1.58000\n",
       "citric.acid          0.00000  0.0900  0.26000  0.27097561  0.420000   1.00000\n",
       "residual.sugar       0.90000  1.9000  2.20000  2.53880550  2.600000  15.50000\n",
       "chlorides            0.01200  0.0700  0.07900  0.08746654  0.090000   0.61100\n",
       "free.sulfur.dioxide  1.00000  7.0000 14.00000 15.87492183 21.000000  72.00000\n",
       "total.sulfur.dioxide 6.00000 22.0000 38.00000 46.46779237 62.000000 289.00000\n",
       "density              0.99007  0.9956  0.99675  0.99674668  0.997835   1.00369\n",
       "pH                   2.74000  3.2100  3.31000  3.31111320  3.400000   4.01000\n",
       "sulphates            0.33000  0.5500  0.62000  0.65814884  0.730000   2.00000\n",
       "alcohol              8.40000  9.5000 10.20000 10.42298311 11.100000  14.90000\n",
       "quality              3.00000  5.0000  6.00000  5.63602251  6.000000   8.00000"
      ]
     },
     "metadata": {},
     "output_type": "display_data"
    }
   ],
   "source": [
    "t(do.call(cbind, lapply(wine, summary)))"
   ]
  },
  {
   "cell_type": "markdown",
   "id": "55a640f1-4626-4f58-9cbf-22dba30e793d",
   "metadata": {},
   "source": [
    "## Check Missing Values"
   ]
  },
  {
   "cell_type": "code",
   "execution_count": 3,
   "id": "bffc6d63-f006-470e-a68a-480fe20f6841",
   "metadata": {},
   "outputs": [
    {
     "data": {
      "text/html": [
       "<table>\n",
       "<tbody>\n",
       "\t<tr><th scope=row>fixed.acidity</th><td>0</td></tr>\n",
       "\t<tr><th scope=row>volatile.acidity</th><td>0</td></tr>\n",
       "\t<tr><th scope=row>citric.acid</th><td>0</td></tr>\n",
       "\t<tr><th scope=row>residual.sugar</th><td>0</td></tr>\n",
       "\t<tr><th scope=row>chlorides</th><td>0</td></tr>\n",
       "\t<tr><th scope=row>free.sulfur.dioxide</th><td>0</td></tr>\n",
       "\t<tr><th scope=row>total.sulfur.dioxide</th><td>0</td></tr>\n",
       "\t<tr><th scope=row>density</th><td>0</td></tr>\n",
       "\t<tr><th scope=row>pH</th><td>0</td></tr>\n",
       "\t<tr><th scope=row>sulphates</th><td>0</td></tr>\n",
       "\t<tr><th scope=row>alcohol</th><td>0</td></tr>\n",
       "\t<tr><th scope=row>quality</th><td>0</td></tr>\n",
       "</tbody>\n",
       "</table>\n"
      ],
      "text/latex": [
       "\\begin{tabular}{r|l}\n",
       "\tfixed.acidity & 0\\\\\n",
       "\tvolatile.acidity & 0\\\\\n",
       "\tcitric.acid & 0\\\\\n",
       "\tresidual.sugar & 0\\\\\n",
       "\tchlorides & 0\\\\\n",
       "\tfree.sulfur.dioxide & 0\\\\\n",
       "\ttotal.sulfur.dioxide & 0\\\\\n",
       "\tdensity & 0\\\\\n",
       "\tpH & 0\\\\\n",
       "\tsulphates & 0\\\\\n",
       "\talcohol & 0\\\\\n",
       "\tquality & 0\\\\\n",
       "\\end{tabular}\n"
      ],
      "text/markdown": [
       "\n",
       "| fixed.acidity | 0 |\n",
       "| volatile.acidity | 0 |\n",
       "| citric.acid | 0 |\n",
       "| residual.sugar | 0 |\n",
       "| chlorides | 0 |\n",
       "| free.sulfur.dioxide | 0 |\n",
       "| total.sulfur.dioxide | 0 |\n",
       "| density | 0 |\n",
       "| pH | 0 |\n",
       "| sulphates | 0 |\n",
       "| alcohol | 0 |\n",
       "| quality | 0 |\n",
       "\n"
      ],
      "text/plain": [
       "                     [,1]\n",
       "fixed.acidity        0   \n",
       "volatile.acidity     0   \n",
       "citric.acid          0   \n",
       "residual.sugar       0   \n",
       "chlorides            0   \n",
       "free.sulfur.dioxide  0   \n",
       "total.sulfur.dioxide 0   \n",
       "density              0   \n",
       "pH                   0   \n",
       "sulphates            0   \n",
       "alcohol              0   \n",
       "quality              0   "
      ]
     },
     "metadata": {},
     "output_type": "display_data"
    }
   ],
   "source": [
    "cbind(colSums(is.na(wine)))"
   ]
  },
  {
   "cell_type": "markdown",
   "id": "fbc678cd-29f5-48c8-af09-d2284398fb20",
   "metadata": {},
   "source": [
    "No missing values - good!"
   ]
  },
  {
   "cell_type": "markdown",
   "id": "268dec08-ce36-4ff8-b4b7-169ae4999bdd",
   "metadata": {},
   "source": [
    "## Check Distributions"
   ]
  },
  {
   "cell_type": "code",
   "execution_count": 4,
   "id": "c97f310d-8a22-4973-9386-1e075d312ff4",
   "metadata": {},
   "outputs": [
    {
     "name": "stderr",
     "output_type": "stream",
     "text": [
      "Loading required package: lattice\n",
      "Loading required package: survival\n",
      "Loading required package: Formula\n",
      "Loading required package: ggplot2\n",
      "Registered S3 methods overwritten by 'ggplot2':\n",
      "  method         from \n",
      "  [.quosures     rlang\n",
      "  c.quosures     rlang\n",
      "  print.quosures rlang\n",
      "\n",
      "Attaching package: 'Hmisc'\n",
      "\n",
      "The following objects are masked from 'package:base':\n",
      "\n",
      "    format.pval, units\n",
      "\n"
     ]
    },
    {
     "data": {
      "image/png": "[encoded data removed]",
      "text/plain": [
       "Plot with title \"\""
      ]
     },
     "metadata": {},
     "output_type": "display_data"
    }
   ],
   "source": [
    "library(Hmisc)\n",
    "\n",
    "hist.data.frame(wine)"
   ]
  },
  {
   "cell_type": "markdown",
   "id": "d41167ee-db66-4a30-9b06-fc6f62efa001",
   "metadata": {},
   "source": [
    "Not all variables are normally distributed. This would cause problems with regression models."
   ]
  },
  {
   "cell_type": "markdown",
   "id": "7716d0a0-a4bd-4b9a-81e0-2a761a679a4f",
   "metadata": {},
   "source": [
    "## Check Correlations\n",
    "Use Pearson's Correlation Coefficient to check for correlations between the continuous-valued independent variables."
   ]
  },
  {
   "cell_type": "code",
   "execution_count": 5,
   "id": "66ddeb98-1e47-4ce8-ae9b-8868bc2d3e28",
   "metadata": {},
   "outputs": [
    {
     "name": "stderr",
     "output_type": "stream",
     "text": [
      "corrplot 0.84 loaded\n"
     ]
    },
    {
     "data": {
      "image/png": "[encoded data removed]",
      "text/plain": [
       "Plot with title \"\""
      ]
     },
     "metadata": {},
     "output_type": "display_data"
    }
   ],
   "source": [
    "library(corrplot)\n",
    "\n",
    "corrplot(cor(wine[, !(colnames(wine) == \"quality\")]))"
   ]
  },
  {
   "cell_type": "code",
   "execution_count": 23,
   "id": "1d6f8fb5-842c-43f4-a470-a0b428304b14",
   "metadata": {},
   "outputs": [
    {
     "data": {
      "text/html": [
       "<table>\n",
       "<thead><tr><th></th><th scope=col>fixed.acidity</th><th scope=col>volatile.acidity</th><th scope=col>citric.acid</th><th scope=col>residual.sugar</th><th scope=col>chlorides</th><th scope=col>free.sulfur.dioxide</th><th scope=col>total.sulfur.dioxide</th><th scope=col>density</th><th scope=col>pH</th><th scope=col>sulphates</th><th scope=col>alcohol</th></tr></thead>\n",
       "<tbody>\n",
       "\t<tr><th scope=row>fixed.acidity</th><td> 1.00000000 </td><td>-0.256130895</td><td> 0.67170343 </td><td> 0.114776724</td><td> 0.093705186</td><td>-0.153794193</td><td>-0.11318144 </td><td> 0.66804729 </td><td>-0.68297819 </td><td> 0.183005664</td><td>-0.06166827 </td></tr>\n",
       "\t<tr><th scope=row>volatile.acidity</th><td>-0.25613089 </td><td> 1.000000000</td><td>-0.55249568 </td><td> 0.001917882</td><td> 0.061297772</td><td>-0.010503827</td><td> 0.07647000 </td><td> 0.02202623 </td><td> 0.23493729 </td><td>-0.260986685</td><td>-0.20228803 </td></tr>\n",
       "\t<tr><th scope=row>citric.acid</th><td> 0.67170343 </td><td>-0.552495685</td><td> 1.00000000 </td><td> 0.143577162</td><td> 0.203822914</td><td>-0.060978129</td><td> 0.03553302 </td><td> 0.36494718 </td><td>-0.54190414 </td><td> 0.312770044</td><td> 0.10990325 </td></tr>\n",
       "\t<tr><th scope=row>residual.sugar</th><td> 0.11477672 </td><td> 0.001917882</td><td> 0.14357716 </td><td> 1.000000000</td><td> 0.055609535</td><td> 0.187048995</td><td> 0.20302788 </td><td> 0.35528337 </td><td>-0.08565242 </td><td> 0.005527121</td><td> 0.04207544 </td></tr>\n",
       "\t<tr><th scope=row>chlorides</th><td> 0.09370519 </td><td> 0.061297772</td><td> 0.20382291 </td><td> 0.055609535</td><td> 1.000000000</td><td> 0.005562147</td><td> 0.04740047 </td><td> 0.20063233 </td><td>-0.26502613 </td><td> 0.371260481</td><td>-0.22114054 </td></tr>\n",
       "\t<tr><th scope=row>free.sulfur.dioxide</th><td>-0.15379419 </td><td>-0.010503827</td><td>-0.06097813 </td><td> 0.187048995</td><td> 0.005562147</td><td> 1.000000000</td><td> 0.66766645 </td><td>-0.02194583 </td><td> 0.07037750 </td><td> 0.051657572</td><td>-0.06940835 </td></tr>\n",
       "\t<tr><th scope=row>total.sulfur.dioxide</th><td>-0.11318144 </td><td> 0.076470005</td><td> 0.03553302 </td><td> 0.203027882</td><td> 0.047400468</td><td> 0.667666450</td><td> 1.00000000 </td><td> 0.07126948 </td><td>-0.06649456 </td><td> 0.042946836</td><td>-0.20565394 </td></tr>\n",
       "\t<tr><th scope=row>density</th><td> 0.66804729 </td><td> 0.022026232</td><td> 0.36494718 </td><td> 0.355283371</td><td> 0.200632327</td><td>-0.021945831</td><td> 0.07126948 </td><td> 1.00000000 </td><td>-0.34169933 </td><td> 0.148506412</td><td>-0.49617977 </td></tr>\n",
       "\t<tr><th scope=row>pH</th><td>-0.68297819 </td><td> 0.234937294</td><td>-0.54190414 </td><td>-0.085652422</td><td>-0.265026131</td><td> 0.070377499</td><td>-0.06649456 </td><td>-0.34169933 </td><td> 1.00000000 </td><td>-0.196647602</td><td> 0.20563251 </td></tr>\n",
       "\t<tr><th scope=row>sulphates</th><td> 0.18300566 </td><td>-0.260986685</td><td> 0.31277004 </td><td> 0.005527121</td><td> 0.371260481</td><td> 0.051657572</td><td> 0.04294684 </td><td> 0.14850641 </td><td>-0.19664760 </td><td> 1.000000000</td><td> 0.09359475 </td></tr>\n",
       "\t<tr><th scope=row>alcohol</th><td>-0.06166827 </td><td>-0.202288027</td><td> 0.10990325 </td><td> 0.042075437</td><td>-0.221140545</td><td>-0.069408354</td><td>-0.20565394 </td><td>-0.49617977 </td><td> 0.20563251 </td><td> 0.093594750</td><td> 1.00000000 </td></tr>\n",
       "</tbody>\n",
       "</table>\n"
      ],
      "text/latex": [
       "\\begin{tabular}{r|lllllllllll}\n",
       "  & fixed.acidity & volatile.acidity & citric.acid & residual.sugar & chlorides & free.sulfur.dioxide & total.sulfur.dioxide & density & pH & sulphates & alcohol\\\\\n",
       "\\hline\n",
       "\tfixed.acidity &  1.00000000  & -0.256130895 &  0.67170343  &  0.114776724 &  0.093705186 & -0.153794193 & -0.11318144  &  0.66804729  & -0.68297819  &  0.183005664 & -0.06166827 \\\\\n",
       "\tvolatile.acidity & -0.25613089  &  1.000000000 & -0.55249568  &  0.001917882 &  0.061297772 & -0.010503827 &  0.07647000  &  0.02202623  &  0.23493729  & -0.260986685 & -0.20228803 \\\\\n",
       "\tcitric.acid &  0.67170343  & -0.552495685 &  1.00000000  &  0.143577162 &  0.203822914 & -0.060978129 &  0.03553302  &  0.36494718  & -0.54190414  &  0.312770044 &  0.10990325 \\\\\n",
       "\tresidual.sugar &  0.11477672  &  0.001917882 &  0.14357716  &  1.000000000 &  0.055609535 &  0.187048995 &  0.20302788  &  0.35528337  & -0.08565242  &  0.005527121 &  0.04207544 \\\\\n",
       "\tchlorides &  0.09370519  &  0.061297772 &  0.20382291  &  0.055609535 &  1.000000000 &  0.005562147 &  0.04740047  &  0.20063233  & -0.26502613  &  0.371260481 & -0.22114054 \\\\\n",
       "\tfree.sulfur.dioxide & -0.15379419  & -0.010503827 & -0.06097813  &  0.187048995 &  0.005562147 &  1.000000000 &  0.66766645  & -0.02194583  &  0.07037750  &  0.051657572 & -0.06940835 \\\\\n",
       "\ttotal.sulfur.dioxide & -0.11318144  &  0.076470005 &  0.03553302  &  0.203027882 &  0.047400468 &  0.667666450 &  1.00000000  &  0.07126948  & -0.06649456  &  0.042946836 & -0.20565394 \\\\\n",
       "\tdensity &  0.66804729  &  0.022026232 &  0.36494718  &  0.355283371 &  0.200632327 & -0.021945831 &  0.07126948  &  1.00000000  & -0.34169933  &  0.148506412 & -0.49617977 \\\\\n",
       "\tpH & -0.68297819  &  0.234937294 & -0.54190414  & -0.085652422 & -0.265026131 &  0.070377499 & -0.06649456  & -0.34169933  &  1.00000000  & -0.196647602 &  0.20563251 \\\\\n",
       "\tsulphates &  0.18300566  & -0.260986685 &  0.31277004  &  0.005527121 &  0.371260481 &  0.051657572 &  0.04294684  &  0.14850641  & -0.19664760  &  1.000000000 &  0.09359475 \\\\\n",
       "\talcohol & -0.06166827  & -0.202288027 &  0.10990325  &  0.042075437 & -0.221140545 & -0.069408354 & -0.20565394  & -0.49617977  &  0.20563251  &  0.093594750 &  1.00000000 \\\\\n",
       "\\end{tabular}\n"
      ],
      "text/markdown": [
       "\n",
       "| <!--/--> | fixed.acidity | volatile.acidity | citric.acid | residual.sugar | chlorides | free.sulfur.dioxide | total.sulfur.dioxide | density | pH | sulphates | alcohol |\n",
       "|---|---|---|---|---|---|---|---|---|---|---|---|\n",
       "| fixed.acidity |  1.00000000  | -0.256130895 |  0.67170343  |  0.114776724 |  0.093705186 | -0.153794193 | -0.11318144  |  0.66804729  | -0.68297819  |  0.183005664 | -0.06166827  |\n",
       "| volatile.acidity | -0.25613089  |  1.000000000 | -0.55249568  |  0.001917882 |  0.061297772 | -0.010503827 |  0.07647000  |  0.02202623  |  0.23493729  | -0.260986685 | -0.20228803  |\n",
       "| citric.acid |  0.67170343  | -0.552495685 |  1.00000000  |  0.143577162 |  0.203822914 | -0.060978129 |  0.03553302  |  0.36494718  | -0.54190414  |  0.312770044 |  0.10990325  |\n",
       "| residual.sugar |  0.11477672  |  0.001917882 |  0.14357716  |  1.000000000 |  0.055609535 |  0.187048995 |  0.20302788  |  0.35528337  | -0.08565242  |  0.005527121 |  0.04207544  |\n",
       "| chlorides |  0.09370519  |  0.061297772 |  0.20382291  |  0.055609535 |  1.000000000 |  0.005562147 |  0.04740047  |  0.20063233  | -0.26502613  |  0.371260481 | -0.22114054  |\n",
       "| free.sulfur.dioxide | -0.15379419  | -0.010503827 | -0.06097813  |  0.187048995 |  0.005562147 |  1.000000000 |  0.66766645  | -0.02194583  |  0.07037750  |  0.051657572 | -0.06940835  |\n",
       "| total.sulfur.dioxide | -0.11318144  |  0.076470005 |  0.03553302  |  0.203027882 |  0.047400468 |  0.667666450 |  1.00000000  |  0.07126948  | -0.06649456  |  0.042946836 | -0.20565394  |\n",
       "| density |  0.66804729  |  0.022026232 |  0.36494718  |  0.355283371 |  0.200632327 | -0.021945831 |  0.07126948  |  1.00000000  | -0.34169933  |  0.148506412 | -0.49617977  |\n",
       "| pH | -0.68297819  |  0.234937294 | -0.54190414  | -0.085652422 | -0.265026131 |  0.070377499 | -0.06649456  | -0.34169933  |  1.00000000  | -0.196647602 |  0.20563251  |\n",
       "| sulphates |  0.18300566  | -0.260986685 |  0.31277004  |  0.005527121 |  0.371260481 |  0.051657572 |  0.04294684  |  0.14850641  | -0.19664760  |  1.000000000 |  0.09359475  |\n",
       "| alcohol | -0.06166827  | -0.202288027 |  0.10990325  |  0.042075437 | -0.221140545 | -0.069408354 | -0.20565394  | -0.49617977  |  0.20563251  |  0.093594750 |  1.00000000  |\n",
       "\n"
      ],
      "text/plain": [
       "                     fixed.acidity volatile.acidity citric.acid residual.sugar\n",
       "fixed.acidity         1.00000000   -0.256130895      0.67170343  0.114776724  \n",
       "volatile.acidity     -0.25613089    1.000000000     -0.55249568  0.001917882  \n",
       "citric.acid           0.67170343   -0.552495685      1.00000000  0.143577162  \n",
       "residual.sugar        0.11477672    0.001917882      0.14357716  1.000000000  \n",
       "chlorides             0.09370519    0.061297772      0.20382291  0.055609535  \n",
       "free.sulfur.dioxide  -0.15379419   -0.010503827     -0.06097813  0.187048995  \n",
       "total.sulfur.dioxide -0.11318144    0.076470005      0.03553302  0.203027882  \n",
       "density               0.66804729    0.022026232      0.36494718  0.355283371  \n",
       "pH                   -0.68297819    0.234937294     -0.54190414 -0.085652422  \n",
       "sulphates             0.18300566   -0.260986685      0.31277004  0.005527121  \n",
       "alcohol              -0.06166827   -0.202288027      0.10990325  0.042075437  \n",
       "                     chlorides    free.sulfur.dioxide total.sulfur.dioxide\n",
       "fixed.acidity         0.093705186 -0.153794193        -0.11318144         \n",
       "volatile.acidity      0.061297772 -0.010503827         0.07647000         \n",
       "citric.acid           0.203822914 -0.060978129         0.03553302         \n",
       "residual.sugar        0.055609535  0.187048995         0.20302788         \n",
       "chlorides             1.000000000  0.005562147         0.04740047         \n",
       "free.sulfur.dioxide   0.005562147  1.000000000         0.66766645         \n",
       "total.sulfur.dioxide  0.047400468  0.667666450         1.00000000         \n",
       "density               0.200632327 -0.021945831         0.07126948         \n",
       "pH                   -0.265026131  0.070377499        -0.06649456         \n",
       "sulphates             0.371260481  0.051657572         0.04294684         \n",
       "alcohol              -0.221140545 -0.069408354        -0.20565394         \n",
       "                     density     pH          sulphates    alcohol    \n",
       "fixed.acidity         0.66804729 -0.68297819  0.183005664 -0.06166827\n",
       "volatile.acidity      0.02202623  0.23493729 -0.260986685 -0.20228803\n",
       "citric.acid           0.36494718 -0.54190414  0.312770044  0.10990325\n",
       "residual.sugar        0.35528337 -0.08565242  0.005527121  0.04207544\n",
       "chlorides             0.20063233 -0.26502613  0.371260481 -0.22114054\n",
       "free.sulfur.dioxide  -0.02194583  0.07037750  0.051657572 -0.06940835\n",
       "total.sulfur.dioxide  0.07126948 -0.06649456  0.042946836 -0.20565394\n",
       "density               1.00000000 -0.34169933  0.148506412 -0.49617977\n",
       "pH                   -0.34169933  1.00000000 -0.196647602  0.20563251\n",
       "sulphates             0.14850641 -0.19664760  1.000000000  0.09359475\n",
       "alcohol              -0.49617977  0.20563251  0.093594750  1.00000000"
      ]
     },
     "metadata": {},
     "output_type": "display_data"
    }
   ],
   "source": [
    "cor(wine[, !(colnames(wine) == \"quality\")])"
   ]
  },
  {
   "cell_type": "markdown",
   "id": "bc32c074-d65f-434f-b236-075df4cd18ec",
   "metadata": {},
   "source": [
    "Some independent variables are correlated with eachother. This may cause problems with model buidling.\n",
    "\n",
    "Typically Spearman's Rank Correlation would be used to measure correlation between all continuous-ordinal pairings (independent-dependent variables), but becaue this data has so many ties between rankings of wines, Kendall's Tau will be used instead. Kendall's Tau is designed to handle ties."
   ]
  },
  {
   "cell_type": "code",
   "execution_count": 20,
   "id": "459a742e-4ccd-4a09-b140-de486e903119",
   "metadata": {},
   "outputs": [
    {
     "data": {
      "image/png": "[encoded data removed]",
      "text/plain": [
       "plot without title"
      ]
     },
     "metadata": {},
     "output_type": "display_data"
    }
   ],
   "source": [
    "library(VGAM)\n",
    "\n",
    "var <- names(wine)[1:11]\n",
    "kendal.tau <- rep(NA, 11)\n",
    "\n",
    "for (i in 1:11) {\n",
    "    kendal.tau[i] <- kendall.tau(wine[, var[i]], as.numeric(wine$quality), exact = TRUE)\n",
    "}\n",
    "\n",
    "kendal.tau <- data.frame(var, kendal.tau)\n",
    "\n",
    "plot(kendal.tau)"
   ]
  },
  {
   "cell_type": "markdown",
   "id": "a84fe553-4ac5-4c23-8cb8-37638f302dee",
   "metadata": {},
   "source": [
    "None of the independent variables are strongly correlated with wine quality."
   ]
  },
  {
   "cell_type": "markdown",
   "id": "62917ca2-47c4-4dcd-acab-14f41add163e",
   "metadata": {},
   "source": [
    "# Prepare Data for Model\n",
    "Convert the quality values into factors."
   ]
  },
  {
   "cell_type": "code",
   "execution_count": 25,
   "id": "1f31587b-8db4-4f7e-86c5-14c092162a19",
   "metadata": {},
   "outputs": [],
   "source": [
    "wine$quality <- as.ordered(wine$quality)"
   ]
  },
  {
   "cell_type": "markdown",
   "id": "eb055715-966b-47d3-9ccb-01daadd2d4db",
   "metadata": {},
   "source": [
    "## Split Data Into Training and Testing"
   ]
  },
  {
   "cell_type": "code",
   "execution_count": 26,
   "id": "b43c41cf-8420-420e-911f-e2bf174f3712",
   "metadata": {},
   "outputs": [],
   "source": [
    "set.seed(123)\n",
    "samp <- sample(nrow(wine), 0.8 * nrow(wine))\n",
    "train <- wine[samp, ]\n",
    "test <- wine[-samp, ]"
   ]
  },
  {
   "cell_type": "markdown",
   "id": "c2087f27-6e60-45c7-9d05-6346a69b3666",
   "metadata": {},
   "source": [
    "# Build Model"
   ]
  },
  {
   "cell_type": "code",
   "execution_count": 66,
   "id": "a6060a30-86e0-47c5-a9e5-55616ea1ff65",
   "metadata": {},
   "outputs": [
    {
     "data": {
      "text/plain": [
       "\n",
       "Call:\n",
       " randomForest(formula = quality ~ ., data = train, ntree = 1000,      mtry = 5, Importance = TRUE) \n",
       "               Type of random forest: classification\n",
       "                     Number of trees: 1000\n",
       "No. of variables tried at each split: 5\n",
       "\n",
       "        OOB estimate of  error rate: 31.2%\n",
       "Confusion matrix:\n",
       "  3 4   5   6  7 8 class.error\n",
       "3 0 1   6   1  0 0   1.0000000\n",
       "4 1 0  28  14  1 0   1.0000000\n",
       "5 0 1 428  99  4 0   0.1954887\n",
       "6 0 0 110 359 38 0   0.2919132\n",
       "7 0 0   9  68 93 2   0.4593023\n",
       "8 0 0   0   9  7 0   1.0000000"
      ]
     },
     "metadata": {},
     "output_type": "display_data"
    }
   ],
   "source": [
    "library(randomForest)\n",
    "\n",
    "model <- randomForest(quality ~ ., data = train, ntree = 1000, mtry = 5, Importance = TRUE)\n",
    "\n",
    "model"
   ]
  },
  {
   "cell_type": "code",
   "execution_count": 69,
   "id": "c59d3123-aaef-4071-b80f-6280958bc0fb",
   "metadata": {},
   "outputs": [
    {
     "data": {
      "text/html": [
       "<table>\n",
       "<thead><tr><th></th><th scope=col>MeanDecreaseGini</th></tr></thead>\n",
       "<tbody>\n",
       "\t<tr><th scope=row>fixed.acidity</th><td> 58.31509</td></tr>\n",
       "\t<tr><th scope=row>volatile.acidity</th><td> 84.26400</td></tr>\n",
       "\t<tr><th scope=row>citric.acid</th><td> 59.35079</td></tr>\n",
       "\t<tr><th scope=row>residual.sugar</th><td> 60.13725</td></tr>\n",
       "\t<tr><th scope=row>chlorides</th><td> 66.95977</td></tr>\n",
       "\t<tr><th scope=row>free.sulfur.dioxide</th><td> 53.99645</td></tr>\n",
       "\t<tr><th scope=row>total.sulfur.dioxide</th><td> 89.52003</td></tr>\n",
       "\t<tr><th scope=row>density</th><td> 70.93215</td></tr>\n",
       "\t<tr><th scope=row>pH</th><td> 61.76724</td></tr>\n",
       "\t<tr><th scope=row>sulphates</th><td> 91.99784</td></tr>\n",
       "\t<tr><th scope=row>alcohol</th><td>133.84523</td></tr>\n",
       "</tbody>\n",
       "</table>\n"
      ],
      "text/latex": [
       "\\begin{tabular}{r|l}\n",
       "  & MeanDecreaseGini\\\\\n",
       "\\hline\n",
       "\tfixed.acidity &  58.31509\\\\\n",
       "\tvolatile.acidity &  84.26400\\\\\n",
       "\tcitric.acid &  59.35079\\\\\n",
       "\tresidual.sugar &  60.13725\\\\\n",
       "\tchlorides &  66.95977\\\\\n",
       "\tfree.sulfur.dioxide &  53.99645\\\\\n",
       "\ttotal.sulfur.dioxide &  89.52003\\\\\n",
       "\tdensity &  70.93215\\\\\n",
       "\tpH &  61.76724\\\\\n",
       "\tsulphates &  91.99784\\\\\n",
       "\talcohol & 133.84523\\\\\n",
       "\\end{tabular}\n"
      ],
      "text/markdown": [
       "\n",
       "| <!--/--> | MeanDecreaseGini |\n",
       "|---|---|\n",
       "| fixed.acidity |  58.31509 |\n",
       "| volatile.acidity |  84.26400 |\n",
       "| citric.acid |  59.35079 |\n",
       "| residual.sugar |  60.13725 |\n",
       "| chlorides |  66.95977 |\n",
       "| free.sulfur.dioxide |  53.99645 |\n",
       "| total.sulfur.dioxide |  89.52003 |\n",
       "| density |  70.93215 |\n",
       "| pH |  61.76724 |\n",
       "| sulphates |  91.99784 |\n",
       "| alcohol | 133.84523 |\n",
       "\n"
      ],
      "text/plain": [
       "                     MeanDecreaseGini\n",
       "fixed.acidity         58.31509       \n",
       "volatile.acidity      84.26400       \n",
       "citric.acid           59.35079       \n",
       "residual.sugar        60.13725       \n",
       "chlorides             66.95977       \n",
       "free.sulfur.dioxide   53.99645       \n",
       "total.sulfur.dioxide  89.52003       \n",
       "density               70.93215       \n",
       "pH                    61.76724       \n",
       "sulphates             91.99784       \n",
       "alcohol              133.84523       "
      ]
     },
     "metadata": {},
     "output_type": "display_data"
    }
   ],
   "source": [
    "importance(model)"
   ]
  },
  {
   "cell_type": "markdown",
   "id": "44a0ede8-2a03-4aaf-bc14-8e59d7dc0d85",
   "metadata": {},
   "source": [
    "## Model Accuracy"
   ]
  },
  {
   "cell_type": "code",
   "execution_count": 30,
   "id": "0e8b7123-e76d-4c33-b15e-665911e06bcb",
   "metadata": {},
   "outputs": [
    {
     "data": {
      "text/plain": [
       "Confusion Matrix and Statistics\n",
       "\n",
       "          Reference\n",
       "Prediction   3   4   5   6   7   8\n",
       "         3   0   0   0   0   0   0\n",
       "         4   0   0   0   0   0   0\n",
       "         5   1   7 116  30   0   0\n",
       "         6   1   2  30  95  11   1\n",
       "         7   0   0   3   6  16   0\n",
       "         8   0   0   0   0   0   1\n",
       "\n",
       "Overall Statistics\n",
       "                                          \n",
       "               Accuracy : 0.7125          \n",
       "                 95% CI : (0.6595, 0.7615)\n",
       "    No Information Rate : 0.4656          \n",
       "    P-Value [Acc > NIR] : < 2.2e-16       \n",
       "                                          \n",
       "                  Kappa : 0.5129          \n",
       "                                          \n",
       " Mcnemar's Test P-Value : NA              \n",
       "\n",
       "Statistics by Class:\n",
       "\n",
       "                     Class: 3 Class: 4 Class: 5 Class: 6 Class: 7 Class: 8\n",
       "Sensitivity           0.00000  0.00000   0.7785   0.7252  0.59259 0.500000\n",
       "Specificity           1.00000  1.00000   0.7778   0.7619  0.96928 1.000000\n",
       "Pos Pred Value            NaN      NaN   0.7532   0.6786  0.64000 1.000000\n",
       "Neg Pred Value        0.99375  0.97188   0.8012   0.8000  0.96271 0.996865\n",
       "Prevalence            0.00625  0.02813   0.4656   0.4094  0.08438 0.006250\n",
       "Detection Rate        0.00000  0.00000   0.3625   0.2969  0.05000 0.003125\n",
       "Detection Prevalence  0.00000  0.00000   0.4813   0.4375  0.07812 0.003125\n",
       "Balanced Accuracy     0.50000  0.50000   0.7782   0.7435  0.78094 0.750000"
      ]
     },
     "metadata": {},
     "output_type": "display_data"
    }
   ],
   "source": [
    "library(caret)\n",
    "\n",
    "# Make predictions\n",
    "predictions <- predict(model, newdata = test)\n",
    "\n",
    "confusionMatrix(predictions, test$quality)"
   ]
  },
  {
   "cell_type": "code",
   "execution_count": 45,
   "id": "f5a4ea55-84b0-4017-97ce-8af9b809f836",
   "metadata": {},
   "outputs": [
    {
     "data": {
      "text/html": [
       "<table>\n",
       "<thead><tr><th></th><th scope=col>train.proportion</th><th scope=col>test.proportion</th></tr></thead>\n",
       "<tbody>\n",
       "\t<tr><th scope=row>3</th><td> 0.6254887</td><td> 0.6250   </td></tr>\n",
       "\t<tr><th scope=row>4</th><td> 3.4401876</td><td> 2.8125   </td></tr>\n",
       "\t<tr><th scope=row>5</th><td>41.5949961</td><td>46.5625   </td></tr>\n",
       "\t<tr><th scope=row>6</th><td>39.6403440</td><td>40.9375   </td></tr>\n",
       "\t<tr><th scope=row>7</th><td>13.4480063</td><td> 8.4375   </td></tr>\n",
       "\t<tr><th scope=row>8</th><td> 1.2509773</td><td> 0.6250   </td></tr>\n",
       "</tbody>\n",
       "</table>\n"
      ],
      "text/latex": [
       "\\begin{tabular}{r|ll}\n",
       "  & train.proportion & test.proportion\\\\\n",
       "\\hline\n",
       "\t3 &  0.6254887 &  0.6250   \\\\\n",
       "\t4 &  3.4401876 &  2.8125   \\\\\n",
       "\t5 & 41.5949961 & 46.5625   \\\\\n",
       "\t6 & 39.6403440 & 40.9375   \\\\\n",
       "\t7 & 13.4480063 &  8.4375   \\\\\n",
       "\t8 &  1.2509773 &  0.6250   \\\\\n",
       "\\end{tabular}\n"
      ],
      "text/markdown": [
       "\n",
       "| <!--/--> | train.proportion | test.proportion |\n",
       "|---|---|---|\n",
       "| 3 |  0.6254887 |  0.6250    |\n",
       "| 4 |  3.4401876 |  2.8125    |\n",
       "| 5 | 41.5949961 | 46.5625    |\n",
       "| 6 | 39.6403440 | 40.9375    |\n",
       "| 7 | 13.4480063 |  8.4375    |\n",
       "| 8 |  1.2509773 |  0.6250    |\n",
       "\n"
      ],
      "text/plain": [
       "  train.proportion test.proportion\n",
       "3  0.6254887        0.6250        \n",
       "4  3.4401876        2.8125        \n",
       "5 41.5949961       46.5625        \n",
       "6 39.6403440       40.9375        \n",
       "7 13.4480063        8.4375        \n",
       "8  1.2509773        0.6250        "
      ]
     },
     "metadata": {},
     "output_type": "display_data"
    }
   ],
   "source": [
    "data.frame(train.proportion=summary(train$quality) * 100 / length(train$quality), test.proportion=summary(test$quality) * 100 / length(test$quality))"
   ]
  },
  {
   "cell_type": "code",
   "execution_count": 48,
   "id": "7cd41dc5-50ef-42f9-bef7-7b3672353cb5",
   "metadata": {},
   "outputs": [
    {
     "data": {
      "text/html": [
       "<table>\n",
       "<thead><tr><th scope=col>values</th><th scope=col>group</th></tr></thead>\n",
       "<tbody>\n",
       "\t<tr><td>3         </td><td>Prediction</td></tr>\n",
       "\t<tr><td>3         </td><td>Prediction</td></tr>\n",
       "\t<tr><td>3         </td><td>Prediction</td></tr>\n",
       "\t<tr><td>3         </td><td>Prediction</td></tr>\n",
       "\t<tr><td>3         </td><td>Prediction</td></tr>\n",
       "\t<tr><td>3         </td><td>Prediction</td></tr>\n",
       "</tbody>\n",
       "</table>\n"
      ],
      "text/latex": [
       "\\begin{tabular}{r|ll}\n",
       " values & group\\\\\n",
       "\\hline\n",
       "\t 3          & Prediction\\\\\n",
       "\t 3          & Prediction\\\\\n",
       "\t 3          & Prediction\\\\\n",
       "\t 3          & Prediction\\\\\n",
       "\t 3          & Prediction\\\\\n",
       "\t 3          & Prediction\\\\\n",
       "\\end{tabular}\n"
      ],
      "text/markdown": [
       "\n",
       "| values | group |\n",
       "|---|---|\n",
       "| 3          | Prediction |\n",
       "| 3          | Prediction |\n",
       "| 3          | Prediction |\n",
       "| 3          | Prediction |\n",
       "| 3          | Prediction |\n",
       "| 3          | Prediction |\n",
       "\n"
      ],
      "text/plain": [
       "  values group     \n",
       "1 3      Prediction\n",
       "2 3      Prediction\n",
       "3 3      Prediction\n",
       "4 3      Prediction\n",
       "5 3      Prediction\n",
       "6 3      Prediction"
      ]
     },
     "metadata": {},
     "output_type": "display_data"
    }
   ],
   "source": [
    "group <- c(rep(\"Prediction\", length(predictions)), \n",
    "           rep(\"Actual\", length(test$quality)))\n",
    "\n",
    "outcomes <- data.frame(values=c(as.numeric(prediction), as.numeric(test$quality)), group)\n",
    "head(outcomes)"
   ]
  },
  {
   "cell_type": "code",
   "execution_count": 65,
   "id": "ba9692b4-4fb8-48ab-9490-446c6a149eb0",
   "metadata": {},
   "outputs": [
    {
     "data": {
      "image/png": "[encoded data removed]",
      "text/plain": [
       "plot without title"
      ]
     },
     "metadata": {},
     "output_type": "display_data"
    }
   ],
   "source": [
    "library(ggplot2)\n",
    "\n",
    "ggplot(outcomes, aes(x=values, fill=group)) +\n",
    "  geom_histogram(position = \"identity\", alpha = 0.4, bins = 6) +\n",
    "  scale_x_discrete(labels= c('1'='3', '2'='4', '3'='5', '4'='6', '5'='7', '6'='8'))\n",
    "  #axis(1, at=1:12, labels=c(3, 4, 5, 6, 7, 8))"
   ]
  },
  {
   "cell_type": "markdown",
   "id": "9bfa3263-41f6-45ba-ade4-c82de762383e",
   "metadata": {},
   "source": [
    "The model is overpredicting qualities 3, 4 and underpredicting all others."
   ]
  },
  {
   "cell_type": "markdown",
   "id": "1fea7a12-de25-4b63-92d4-b094b32951ee",
   "metadata": {},
   "source": [
    "# Conclusion\n",
    "Overall model performance seems good - accuracy is 90%, but the model does a poor job of correctly classifying 'bad' tasting wine (sensitivity = 9%) and only a moderate job at correctly classifying 'good' wine (sensitivity = 62%). The model seems to be favoring the prediction of 'normal' taste, which is expected since that class is overrepresented. If the model decided to predict all test data as 'normal' it would have an accuracy of 87.5%, only slightly less than the score it actually achieved.\n",
    "\n",
    "This model would be best suited for predicting which wines have 'normal' taste."
   ]
  },
  {
   "cell_type": "markdown",
   "id": "b6e95c5d-96cb-4268-aa15-910fea9b703a",
   "metadata": {},
   "source": [
    "## Reference\n",
    "True Positive (for Class X): Number of subject which have been correctly classified as class x.  \n",
    "All Positives (for Class X): Number of subjects actually in class x.  \n",
    "True Negatives (for Class X): Number of subjects which have been correctly classified as not class x.  \n",
    "All Negatives (for Class X): Number of subjects actually not in class X.\n",
    "\n",
    "$$\n",
    "\\text{Sensitivity} = \\frac{\\text{True Positives}}{\\text{All Positives}}\n",
    "$$\n",
    "$$\n",
    "\\text{Specificity} = \\frac{\\text{True Negatives}}{\\text{All Negatives}}\n",
    "$$"
   ]
  },
  {
   "cell_type": "code",
   "execution_count": null,
   "id": "549f7c30-391b-4b5e-8989-dc95f8ca8e83",
   "metadata": {},
   "outputs": [],
   "source": []
  }
 ],
 "metadata": {
  "kernelspec": {
   "display_name": "R",
   "language": "R",
   "name": "ir"
  },
  "language_info": {
   "codemirror_mode": "r",
   "file_extension": ".r",
   "mimetype": "text/x-r-source",
   "name": "R",
   "pygments_lexer": "r",
   "version": "3.6.1"
  },
  "toc-showcode": false,
  "toc-showmarkdowntxt": false
 },
 "nbformat": 4,
 "nbformat_minor": 5
}
