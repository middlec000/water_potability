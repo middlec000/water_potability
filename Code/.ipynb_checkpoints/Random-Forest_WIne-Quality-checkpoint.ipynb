{
 "cells": [
  {
   "cell_type": "markdown",
   "id": "32410f24-88a5-483d-867e-da546257db5b",
   "metadata": {},
   "source": [
    "# Wine Quality\n",
    "\n",
    "Practice example from: https://www.simplilearn.com/tutorials/data-science-tutorial/random-forest-in-r "
   ]
  },
  {
   "cell_type": "markdown",
   "id": "f36330ef-5584-469f-88c6-c33942214ad3",
   "metadata": {},
   "source": [
    "# Import and Explore Data"
   ]
  },
  {
   "cell_type": "code",
   "execution_count": 1,
   "id": "71b74b78-61f0-4e4d-9bba-ef71ada29e64",
   "metadata": {},
   "outputs": [
    {
     "data": {
      "text/html": [
       "<table>\n",
       "<thead><tr><th scope=col>fixed.acidity</th><th scope=col>volatile.acidity</th><th scope=col>citric.acid</th><th scope=col>residual.sugar</th><th scope=col>chlorides</th><th scope=col>free.sulfur.dioxide</th><th scope=col>total.sulfur.dioxide</th><th scope=col>density</th><th scope=col>pH</th><th scope=col>sulphates</th><th scope=col>alcohol</th><th scope=col>quality</th></tr></thead>\n",
       "<tbody>\n",
       "\t<tr><td> 7.4  </td><td>0.70  </td><td>0.00  </td><td>1.9   </td><td>0.076 </td><td>11    </td><td>34    </td><td>0.9978</td><td>3.51  </td><td>0.56  </td><td>9.4   </td><td>5     </td></tr>\n",
       "\t<tr><td> 7.8  </td><td>0.88  </td><td>0.00  </td><td>2.6   </td><td>0.098 </td><td>25    </td><td>67    </td><td>0.9968</td><td>3.20  </td><td>0.68  </td><td>9.8   </td><td>5     </td></tr>\n",
       "\t<tr><td> 7.8  </td><td>0.76  </td><td>0.04  </td><td>2.3   </td><td>0.092 </td><td>15    </td><td>54    </td><td>0.9970</td><td>3.26  </td><td>0.65  </td><td>9.8   </td><td>5     </td></tr>\n",
       "\t<tr><td>11.2  </td><td>0.28  </td><td>0.56  </td><td>1.9   </td><td>0.075 </td><td>17    </td><td>60    </td><td>0.9980</td><td>3.16  </td><td>0.58  </td><td>9.8   </td><td>6     </td></tr>\n",
       "\t<tr><td> 7.4  </td><td>0.70  </td><td>0.00  </td><td>1.9   </td><td>0.076 </td><td>11    </td><td>34    </td><td>0.9978</td><td>3.51  </td><td>0.56  </td><td>9.4   </td><td>5     </td></tr>\n",
       "\t<tr><td> 7.4  </td><td>0.66  </td><td>0.00  </td><td>1.8   </td><td>0.075 </td><td>13    </td><td>40    </td><td>0.9978</td><td>3.51  </td><td>0.56  </td><td>9.4   </td><td>5     </td></tr>\n",
       "</tbody>\n",
       "</table>\n"
      ],
      "text/latex": [
       "\\begin{tabular}{r|llllllllllll}\n",
       " fixed.acidity & volatile.acidity & citric.acid & residual.sugar & chlorides & free.sulfur.dioxide & total.sulfur.dioxide & density & pH & sulphates & alcohol & quality\\\\\n",
       "\\hline\n",
       "\t  7.4   & 0.70   & 0.00   & 1.9    & 0.076  & 11     & 34     & 0.9978 & 3.51   & 0.56   & 9.4    & 5     \\\\\n",
       "\t  7.8   & 0.88   & 0.00   & 2.6    & 0.098  & 25     & 67     & 0.9968 & 3.20   & 0.68   & 9.8    & 5     \\\\\n",
       "\t  7.8   & 0.76   & 0.04   & 2.3    & 0.092  & 15     & 54     & 0.9970 & 3.26   & 0.65   & 9.8    & 5     \\\\\n",
       "\t 11.2   & 0.28   & 0.56   & 1.9    & 0.075  & 17     & 60     & 0.9980 & 3.16   & 0.58   & 9.8    & 6     \\\\\n",
       "\t  7.4   & 0.70   & 0.00   & 1.9    & 0.076  & 11     & 34     & 0.9978 & 3.51   & 0.56   & 9.4    & 5     \\\\\n",
       "\t  7.4   & 0.66   & 0.00   & 1.8    & 0.075  & 13     & 40     & 0.9978 & 3.51   & 0.56   & 9.4    & 5     \\\\\n",
       "\\end{tabular}\n"
      ],
      "text/markdown": [
       "\n",
       "| fixed.acidity | volatile.acidity | citric.acid | residual.sugar | chlorides | free.sulfur.dioxide | total.sulfur.dioxide | density | pH | sulphates | alcohol | quality |\n",
       "|---|---|---|---|---|---|---|---|---|---|---|---|\n",
       "|  7.4   | 0.70   | 0.00   | 1.9    | 0.076  | 11     | 34     | 0.9978 | 3.51   | 0.56   | 9.4    | 5      |\n",
       "|  7.8   | 0.88   | 0.00   | 2.6    | 0.098  | 25     | 67     | 0.9968 | 3.20   | 0.68   | 9.8    | 5      |\n",
       "|  7.8   | 0.76   | 0.04   | 2.3    | 0.092  | 15     | 54     | 0.9970 | 3.26   | 0.65   | 9.8    | 5      |\n",
       "| 11.2   | 0.28   | 0.56   | 1.9    | 0.075  | 17     | 60     | 0.9980 | 3.16   | 0.58   | 9.8    | 6      |\n",
       "|  7.4   | 0.70   | 0.00   | 1.9    | 0.076  | 11     | 34     | 0.9978 | 3.51   | 0.56   | 9.4    | 5      |\n",
       "|  7.4   | 0.66   | 0.00   | 1.8    | 0.075  | 13     | 40     | 0.9978 | 3.51   | 0.56   | 9.4    | 5      |\n",
       "\n"
      ],
      "text/plain": [
       "  fixed.acidity volatile.acidity citric.acid residual.sugar chlorides\n",
       "1  7.4          0.70             0.00        1.9            0.076    \n",
       "2  7.8          0.88             0.00        2.6            0.098    \n",
       "3  7.8          0.76             0.04        2.3            0.092    \n",
       "4 11.2          0.28             0.56        1.9            0.075    \n",
       "5  7.4          0.70             0.00        1.9            0.076    \n",
       "6  7.4          0.66             0.00        1.8            0.075    \n",
       "  free.sulfur.dioxide total.sulfur.dioxide density pH   sulphates alcohol\n",
       "1 11                  34                   0.9978  3.51 0.56      9.4    \n",
       "2 25                  67                   0.9968  3.20 0.68      9.8    \n",
       "3 15                  54                   0.9970  3.26 0.65      9.8    \n",
       "4 17                  60                   0.9980  3.16 0.58      9.8    \n",
       "5 11                  34                   0.9978  3.51 0.56      9.4    \n",
       "6 13                  40                   0.9978  3.51 0.56      9.4    \n",
       "  quality\n",
       "1 5      \n",
       "2 5      \n",
       "3 5      \n",
       "4 6      \n",
       "5 5      \n",
       "6 5      "
      ]
     },
     "metadata": {},
     "output_type": "display_data"
    }
   ],
   "source": [
    "wine <- read.csv(url(\"https://archive.ics.uci.edu/ml/machine-learning-databases/wine-quality/winequality-red.csv\"), header = TRUE, sep = \";\") \n",
    "\n",
    "head(wine)"
   ]
  },
  {
   "cell_type": "code",
   "execution_count": 2,
   "id": "364e4212-5605-494e-b985-fcc33aacb3c0",
   "metadata": {},
   "outputs": [
    {
     "data": {
      "text/html": [
       "<table>\n",
       "<thead><tr><th></th><th scope=col>Min.</th><th scope=col>1st Qu.</th><th scope=col>Median</th><th scope=col>Mean</th><th scope=col>3rd Qu.</th><th scope=col>Max.</th></tr></thead>\n",
       "<tbody>\n",
       "\t<tr><th scope=row>fixed.acidity</th><td>4.60000    </td><td> 7.1000    </td><td> 7.90000   </td><td> 8.31963727</td><td> 9.200000  </td><td> 15.90000  </td></tr>\n",
       "\t<tr><th scope=row>volatile.acidity</th><td>0.12000    </td><td> 0.3900    </td><td> 0.52000   </td><td> 0.52782051</td><td> 0.640000  </td><td>  1.58000  </td></tr>\n",
       "\t<tr><th scope=row>citric.acid</th><td>0.00000    </td><td> 0.0900    </td><td> 0.26000   </td><td> 0.27097561</td><td> 0.420000  </td><td>  1.00000  </td></tr>\n",
       "\t<tr><th scope=row>residual.sugar</th><td>0.90000    </td><td> 1.9000    </td><td> 2.20000   </td><td> 2.53880550</td><td> 2.600000  </td><td> 15.50000  </td></tr>\n",
       "\t<tr><th scope=row>chlorides</th><td>0.01200    </td><td> 0.0700    </td><td> 0.07900   </td><td> 0.08746654</td><td> 0.090000  </td><td>  0.61100  </td></tr>\n",
       "\t<tr><th scope=row>free.sulfur.dioxide</th><td>1.00000    </td><td> 7.0000    </td><td>14.00000   </td><td>15.87492183</td><td>21.000000  </td><td> 72.00000  </td></tr>\n",
       "\t<tr><th scope=row>total.sulfur.dioxide</th><td>6.00000    </td><td>22.0000    </td><td>38.00000   </td><td>46.46779237</td><td>62.000000  </td><td>289.00000  </td></tr>\n",
       "\t<tr><th scope=row>density</th><td>0.99007    </td><td> 0.9956    </td><td> 0.99675   </td><td> 0.99674668</td><td> 0.997835  </td><td>  1.00369  </td></tr>\n",
       "\t<tr><th scope=row>pH</th><td>2.74000    </td><td> 3.2100    </td><td> 3.31000   </td><td> 3.31111320</td><td> 3.400000  </td><td>  4.01000  </td></tr>\n",
       "\t<tr><th scope=row>sulphates</th><td>0.33000    </td><td> 0.5500    </td><td> 0.62000   </td><td> 0.65814884</td><td> 0.730000  </td><td>  2.00000  </td></tr>\n",
       "\t<tr><th scope=row>alcohol</th><td>8.40000    </td><td> 9.5000    </td><td>10.20000   </td><td>10.42298311</td><td>11.100000  </td><td> 14.90000  </td></tr>\n",
       "\t<tr><th scope=row>quality</th><td>3.00000    </td><td> 5.0000    </td><td> 6.00000   </td><td> 5.63602251</td><td> 6.000000  </td><td>  8.00000  </td></tr>\n",
       "</tbody>\n",
       "</table>\n"
      ],
      "text/latex": [
       "\\begin{tabular}{r|llllll}\n",
       "  & Min. & 1st Qu. & Median & Mean & 3rd Qu. & Max.\\\\\n",
       "\\hline\n",
       "\tfixed.acidity & 4.60000     &  7.1000     &  7.90000    &  8.31963727 &  9.200000   &  15.90000  \\\\\n",
       "\tvolatile.acidity & 0.12000     &  0.3900     &  0.52000    &  0.52782051 &  0.640000   &   1.58000  \\\\\n",
       "\tcitric.acid & 0.00000     &  0.0900     &  0.26000    &  0.27097561 &  0.420000   &   1.00000  \\\\\n",
       "\tresidual.sugar & 0.90000     &  1.9000     &  2.20000    &  2.53880550 &  2.600000   &  15.50000  \\\\\n",
       "\tchlorides & 0.01200     &  0.0700     &  0.07900    &  0.08746654 &  0.090000   &   0.61100  \\\\\n",
       "\tfree.sulfur.dioxide & 1.00000     &  7.0000     & 14.00000    & 15.87492183 & 21.000000   &  72.00000  \\\\\n",
       "\ttotal.sulfur.dioxide & 6.00000     & 22.0000     & 38.00000    & 46.46779237 & 62.000000   & 289.00000  \\\\\n",
       "\tdensity & 0.99007     &  0.9956     &  0.99675    &  0.99674668 &  0.997835   &   1.00369  \\\\\n",
       "\tpH & 2.74000     &  3.2100     &  3.31000    &  3.31111320 &  3.400000   &   4.01000  \\\\\n",
       "\tsulphates & 0.33000     &  0.5500     &  0.62000    &  0.65814884 &  0.730000   &   2.00000  \\\\\n",
       "\talcohol & 8.40000     &  9.5000     & 10.20000    & 10.42298311 & 11.100000   &  14.90000  \\\\\n",
       "\tquality & 3.00000     &  5.0000     &  6.00000    &  5.63602251 &  6.000000   &   8.00000  \\\\\n",
       "\\end{tabular}\n"
      ],
      "text/markdown": [
       "\n",
       "| <!--/--> | Min. | 1st Qu. | Median | Mean | 3rd Qu. | Max. |\n",
       "|---|---|---|---|---|---|---|\n",
       "| fixed.acidity | 4.60000     |  7.1000     |  7.90000    |  8.31963727 |  9.200000   |  15.90000   |\n",
       "| volatile.acidity | 0.12000     |  0.3900     |  0.52000    |  0.52782051 |  0.640000   |   1.58000   |\n",
       "| citric.acid | 0.00000     |  0.0900     |  0.26000    |  0.27097561 |  0.420000   |   1.00000   |\n",
       "| residual.sugar | 0.90000     |  1.9000     |  2.20000    |  2.53880550 |  2.600000   |  15.50000   |\n",
       "| chlorides | 0.01200     |  0.0700     |  0.07900    |  0.08746654 |  0.090000   |   0.61100   |\n",
       "| free.sulfur.dioxide | 1.00000     |  7.0000     | 14.00000    | 15.87492183 | 21.000000   |  72.00000   |\n",
       "| total.sulfur.dioxide | 6.00000     | 22.0000     | 38.00000    | 46.46779237 | 62.000000   | 289.00000   |\n",
       "| density | 0.99007     |  0.9956     |  0.99675    |  0.99674668 |  0.997835   |   1.00369   |\n",
       "| pH | 2.74000     |  3.2100     |  3.31000    |  3.31111320 |  3.400000   |   4.01000   |\n",
       "| sulphates | 0.33000     |  0.5500     |  0.62000    |  0.65814884 |  0.730000   |   2.00000   |\n",
       "| alcohol | 8.40000     |  9.5000     | 10.20000    | 10.42298311 | 11.100000   |  14.90000   |\n",
       "| quality | 3.00000     |  5.0000     |  6.00000    |  5.63602251 |  6.000000   |   8.00000   |\n",
       "\n"
      ],
      "text/plain": [
       "                     Min.    1st Qu. Median   Mean        3rd Qu.   Max.     \n",
       "fixed.acidity        4.60000  7.1000  7.90000  8.31963727  9.200000  15.90000\n",
       "volatile.acidity     0.12000  0.3900  0.52000  0.52782051  0.640000   1.58000\n",
       "citric.acid          0.00000  0.0900  0.26000  0.27097561  0.420000   1.00000\n",
       "residual.sugar       0.90000  1.9000  2.20000  2.53880550  2.600000  15.50000\n",
       "chlorides            0.01200  0.0700  0.07900  0.08746654  0.090000   0.61100\n",
       "free.sulfur.dioxide  1.00000  7.0000 14.00000 15.87492183 21.000000  72.00000\n",
       "total.sulfur.dioxide 6.00000 22.0000 38.00000 46.46779237 62.000000 289.00000\n",
       "density              0.99007  0.9956  0.99675  0.99674668  0.997835   1.00369\n",
       "pH                   2.74000  3.2100  3.31000  3.31111320  3.400000   4.01000\n",
       "sulphates            0.33000  0.5500  0.62000  0.65814884  0.730000   2.00000\n",
       "alcohol              8.40000  9.5000 10.20000 10.42298311 11.100000  14.90000\n",
       "quality              3.00000  5.0000  6.00000  5.63602251  6.000000   8.00000"
      ]
     },
     "metadata": {},
     "output_type": "display_data"
    }
   ],
   "source": [
    "t(do.call(cbind, lapply(wine, summary)))"
   ]
  },
  {
   "cell_type": "markdown",
   "id": "55a640f1-4626-4f58-9cbf-22dba30e793d",
   "metadata": {},
   "source": [
    "## Check Missing Values"
   ]
  },
  {
   "cell_type": "code",
   "execution_count": 3,
   "id": "bffc6d63-f006-470e-a68a-480fe20f6841",
   "metadata": {},
   "outputs": [
    {
     "data": {
      "text/html": [
       "<table>\n",
       "<tbody>\n",
       "\t<tr><th scope=row>fixed.acidity</th><td>0</td></tr>\n",
       "\t<tr><th scope=row>volatile.acidity</th><td>0</td></tr>\n",
       "\t<tr><th scope=row>citric.acid</th><td>0</td></tr>\n",
       "\t<tr><th scope=row>residual.sugar</th><td>0</td></tr>\n",
       "\t<tr><th scope=row>chlorides</th><td>0</td></tr>\n",
       "\t<tr><th scope=row>free.sulfur.dioxide</th><td>0</td></tr>\n",
       "\t<tr><th scope=row>total.sulfur.dioxide</th><td>0</td></tr>\n",
       "\t<tr><th scope=row>density</th><td>0</td></tr>\n",
       "\t<tr><th scope=row>pH</th><td>0</td></tr>\n",
       "\t<tr><th scope=row>sulphates</th><td>0</td></tr>\n",
       "\t<tr><th scope=row>alcohol</th><td>0</td></tr>\n",
       "\t<tr><th scope=row>quality</th><td>0</td></tr>\n",
       "</tbody>\n",
       "</table>\n"
      ],
      "text/latex": [
       "\\begin{tabular}{r|l}\n",
       "\tfixed.acidity & 0\\\\\n",
       "\tvolatile.acidity & 0\\\\\n",
       "\tcitric.acid & 0\\\\\n",
       "\tresidual.sugar & 0\\\\\n",
       "\tchlorides & 0\\\\\n",
       "\tfree.sulfur.dioxide & 0\\\\\n",
       "\ttotal.sulfur.dioxide & 0\\\\\n",
       "\tdensity & 0\\\\\n",
       "\tpH & 0\\\\\n",
       "\tsulphates & 0\\\\\n",
       "\talcohol & 0\\\\\n",
       "\tquality & 0\\\\\n",
       "\\end{tabular}\n"
      ],
      "text/markdown": [
       "\n",
       "| fixed.acidity | 0 |\n",
       "| volatile.acidity | 0 |\n",
       "| citric.acid | 0 |\n",
       "| residual.sugar | 0 |\n",
       "| chlorides | 0 |\n",
       "| free.sulfur.dioxide | 0 |\n",
       "| total.sulfur.dioxide | 0 |\n",
       "| density | 0 |\n",
       "| pH | 0 |\n",
       "| sulphates | 0 |\n",
       "| alcohol | 0 |\n",
       "| quality | 0 |\n",
       "\n"
      ],
      "text/plain": [
       "                     [,1]\n",
       "fixed.acidity        0   \n",
       "volatile.acidity     0   \n",
       "citric.acid          0   \n",
       "residual.sugar       0   \n",
       "chlorides            0   \n",
       "free.sulfur.dioxide  0   \n",
       "total.sulfur.dioxide 0   \n",
       "density              0   \n",
       "pH                   0   \n",
       "sulphates            0   \n",
       "alcohol              0   \n",
       "quality              0   "
      ]
     },
     "metadata": {},
     "output_type": "display_data"
    }
   ],
   "source": [
    "cbind(colSums(is.na(wine)))"
   ]
  },
  {
   "cell_type": "markdown",
   "id": "fbc678cd-29f5-48c8-af09-d2284398fb20",
   "metadata": {},
   "source": [
    "No missing values - good!"
   ]
  },
  {
   "cell_type": "markdown",
   "id": "268dec08-ce36-4ff8-b4b7-169ae4999bdd",
   "metadata": {},
   "source": [
    "## Check Distributions"
   ]
  },
  {
   "cell_type": "code",
   "execution_count": 4,
   "id": "c97f310d-8a22-4973-9386-1e075d312ff4",
   "metadata": {},
   "outputs": [
    {
     "name": "stderr",
     "output_type": "stream",
     "text": [
      "Loading required package: lattice\n",
      "Loading required package: survival\n",
      "Loading required package: Formula\n",
      "Loading required package: ggplot2\n",
      "Registered S3 methods overwritten by 'ggplot2':\n",
      "  method         from \n",
      "  [.quosures     rlang\n",
      "  c.quosures     rlang\n",
      "  print.quosures rlang\n",
      "\n",
      "Attaching package: 'Hmisc'\n",
      "\n",
      "The following objects are masked from 'package:base':\n",
      "\n",
      "    format.pval, units\n",
      "\n"
     ]
    },
    {
     "data": {
      "image/png": "[encoded data removed]",
      "text/plain": [
       "Plot with title \"\""
      ]
     },
     "metadata": {},
     "output_type": "display_data"
    }
   ],
   "source": [
    "library(Hmisc)\n",
    "\n",
    "hist.data.frame(wine)"
   ]
  },
  {
   "cell_type": "markdown",
   "id": "d41167ee-db66-4a30-9b06-fc6f62efa001",
   "metadata": {},
   "source": [
    "Not all variables are normally distributed. This would cause problems with regression models."
   ]
  },
  {
   "cell_type": "markdown",
   "id": "7716d0a0-a4bd-4b9a-81e0-2a761a679a4f",
   "metadata": {},
   "source": [
    "## Check Correlations\n",
    "Use Pearson's Correlation Coefficient to check for correlations between the continuous-valued independent variables."
   ]
  },
  {
   "cell_type": "code",
   "execution_count": 5,
   "id": "66ddeb98-1e47-4ce8-ae9b-8868bc2d3e28",
   "metadata": {},
   "outputs": [
    {
     "name": "stderr",
     "output_type": "stream",
     "text": [
      "corrplot 0.84 loaded\n"
     ]
    },
    {
     "data": {
      "image/png": "[encoded data removed]",
      "text/plain": [
       "Plot with title \"\""
      ]
     },
     "metadata": {},
     "output_type": "display_data"
    }
   ],
   "source": [
    "library(corrplot)\n",
    "\n",
    "corrplot(cor(wine[, !(colnames(wine) == \"quality\")]))"
   ]
  },
  {
   "cell_type": "code",
   "execution_count": 6,
   "id": "1d6f8fb5-842c-43f4-a470-a0b428304b14",
   "metadata": {},
   "outputs": [
    {
     "data": {
      "text/html": [
       "<table>\n",
       "<thead><tr><th></th><th scope=col>fixed.acidity</th><th scope=col>volatile.acidity</th><th scope=col>citric.acid</th><th scope=col>residual.sugar</th><th scope=col>chlorides</th><th scope=col>free.sulfur.dioxide</th><th scope=col>total.sulfur.dioxide</th><th scope=col>density</th><th scope=col>pH</th><th scope=col>sulphates</th><th scope=col>alcohol</th></tr></thead>\n",
       "<tbody>\n",
       "\t<tr><th scope=row>fixed.acidity</th><td> 1.00000000 </td><td>-0.256130895</td><td> 0.67170343 </td><td> 0.114776724</td><td> 0.093705186</td><td>-0.153794193</td><td>-0.11318144 </td><td> 0.66804729 </td><td>-0.68297819 </td><td> 0.183005664</td><td>-0.06166827 </td></tr>\n",
       "\t<tr><th scope=row>volatile.acidity</th><td>-0.25613089 </td><td> 1.000000000</td><td>-0.55249568 </td><td> 0.001917882</td><td> 0.061297772</td><td>-0.010503827</td><td> 0.07647000 </td><td> 0.02202623 </td><td> 0.23493729 </td><td>-0.260986685</td><td>-0.20228803 </td></tr>\n",
       "\t<tr><th scope=row>citric.acid</th><td> 0.67170343 </td><td>-0.552495685</td><td> 1.00000000 </td><td> 0.143577162</td><td> 0.203822914</td><td>-0.060978129</td><td> 0.03553302 </td><td> 0.36494718 </td><td>-0.54190414 </td><td> 0.312770044</td><td> 0.10990325 </td></tr>\n",
       "\t<tr><th scope=row>residual.sugar</th><td> 0.11477672 </td><td> 0.001917882</td><td> 0.14357716 </td><td> 1.000000000</td><td> 0.055609535</td><td> 0.187048995</td><td> 0.20302788 </td><td> 0.35528337 </td><td>-0.08565242 </td><td> 0.005527121</td><td> 0.04207544 </td></tr>\n",
       "\t<tr><th scope=row>chlorides</th><td> 0.09370519 </td><td> 0.061297772</td><td> 0.20382291 </td><td> 0.055609535</td><td> 1.000000000</td><td> 0.005562147</td><td> 0.04740047 </td><td> 0.20063233 </td><td>-0.26502613 </td><td> 0.371260481</td><td>-0.22114054 </td></tr>\n",
       "\t<tr><th scope=row>free.sulfur.dioxide</th><td>-0.15379419 </td><td>-0.010503827</td><td>-0.06097813 </td><td> 0.187048995</td><td> 0.005562147</td><td> 1.000000000</td><td> 0.66766645 </td><td>-0.02194583 </td><td> 0.07037750 </td><td> 0.051657572</td><td>-0.06940835 </td></tr>\n",
       "\t<tr><th scope=row>total.sulfur.dioxide</th><td>-0.11318144 </td><td> 0.076470005</td><td> 0.03553302 </td><td> 0.203027882</td><td> 0.047400468</td><td> 0.667666450</td><td> 1.00000000 </td><td> 0.07126948 </td><td>-0.06649456 </td><td> 0.042946836</td><td>-0.20565394 </td></tr>\n",
       "\t<tr><th scope=row>density</th><td> 0.66804729 </td><td> 0.022026232</td><td> 0.36494718 </td><td> 0.355283371</td><td> 0.200632327</td><td>-0.021945831</td><td> 0.07126948 </td><td> 1.00000000 </td><td>-0.34169933 </td><td> 0.148506412</td><td>-0.49617977 </td></tr>\n",
       "\t<tr><th scope=row>pH</th><td>-0.68297819 </td><td> 0.234937294</td><td>-0.54190414 </td><td>-0.085652422</td><td>-0.265026131</td><td> 0.070377499</td><td>-0.06649456 </td><td>-0.34169933 </td><td> 1.00000000 </td><td>-0.196647602</td><td> 0.20563251 </td></tr>\n",
       "\t<tr><th scope=row>sulphates</th><td> 0.18300566 </td><td>-0.260986685</td><td> 0.31277004 </td><td> 0.005527121</td><td> 0.371260481</td><td> 0.051657572</td><td> 0.04294684 </td><td> 0.14850641 </td><td>-0.19664760 </td><td> 1.000000000</td><td> 0.09359475 </td></tr>\n",
       "\t<tr><th scope=row>alcohol</th><td>-0.06166827 </td><td>-0.202288027</td><td> 0.10990325 </td><td> 0.042075437</td><td>-0.221140545</td><td>-0.069408354</td><td>-0.20565394 </td><td>-0.49617977 </td><td> 0.20563251 </td><td> 0.093594750</td><td> 1.00000000 </td></tr>\n",
       "</tbody>\n",
       "</table>\n"
      ],
      "text/latex": [
       "\\begin{tabular}{r|lllllllllll}\n",
       "  & fixed.acidity & volatile.acidity & citric.acid & residual.sugar & chlorides & free.sulfur.dioxide & total.sulfur.dioxide & density & pH & sulphates & alcohol\\\\\n",
       "\\hline\n",
       "\tfixed.acidity &  1.00000000  & -0.256130895 &  0.67170343  &  0.114776724 &  0.093705186 & -0.153794193 & -0.11318144  &  0.66804729  & -0.68297819  &  0.183005664 & -0.06166827 \\\\\n",
       "\tvolatile.acidity & -0.25613089  &  1.000000000 & -0.55249568  &  0.001917882 &  0.061297772 & -0.010503827 &  0.07647000  &  0.02202623  &  0.23493729  & -0.260986685 & -0.20228803 \\\\\n",
       "\tcitric.acid &  0.67170343  & -0.552495685 &  1.00000000  &  0.143577162 &  0.203822914 & -0.060978129 &  0.03553302  &  0.36494718  & -0.54190414  &  0.312770044 &  0.10990325 \\\\\n",
       "\tresidual.sugar &  0.11477672  &  0.001917882 &  0.14357716  &  1.000000000 &  0.055609535 &  0.187048995 &  0.20302788  &  0.35528337  & -0.08565242  &  0.005527121 &  0.04207544 \\\\\n",
       "\tchlorides &  0.09370519  &  0.061297772 &  0.20382291  &  0.055609535 &  1.000000000 &  0.005562147 &  0.04740047  &  0.20063233  & -0.26502613  &  0.371260481 & -0.22114054 \\\\\n",
       "\tfree.sulfur.dioxide & -0.15379419  & -0.010503827 & -0.06097813  &  0.187048995 &  0.005562147 &  1.000000000 &  0.66766645  & -0.02194583  &  0.07037750  &  0.051657572 & -0.06940835 \\\\\n",
       "\ttotal.sulfur.dioxide & -0.11318144  &  0.076470005 &  0.03553302  &  0.203027882 &  0.047400468 &  0.667666450 &  1.00000000  &  0.07126948  & -0.06649456  &  0.042946836 & -0.20565394 \\\\\n",
       "\tdensity &  0.66804729  &  0.022026232 &  0.36494718  &  0.355283371 &  0.200632327 & -0.021945831 &  0.07126948  &  1.00000000  & -0.34169933  &  0.148506412 & -0.49617977 \\\\\n",
       "\tpH & -0.68297819  &  0.234937294 & -0.54190414  & -0.085652422 & -0.265026131 &  0.070377499 & -0.06649456  & -0.34169933  &  1.00000000  & -0.196647602 &  0.20563251 \\\\\n",
       "\tsulphates &  0.18300566  & -0.260986685 &  0.31277004  &  0.005527121 &  0.371260481 &  0.051657572 &  0.04294684  &  0.14850641  & -0.19664760  &  1.000000000 &  0.09359475 \\\\\n",
       "\talcohol & -0.06166827  & -0.202288027 &  0.10990325  &  0.042075437 & -0.221140545 & -0.069408354 & -0.20565394  & -0.49617977  &  0.20563251  &  0.093594750 &  1.00000000 \\\\\n",
       "\\end{tabular}\n"
      ],
      "text/markdown": [
       "\n",
       "| <!--/--> | fixed.acidity | volatile.acidity | citric.acid | residual.sugar | chlorides | free.sulfur.dioxide | total.sulfur.dioxide | density | pH | sulphates | alcohol |\n",
       "|---|---|---|---|---|---|---|---|---|---|---|---|\n",
       "| fixed.acidity |  1.00000000  | -0.256130895 |  0.67170343  |  0.114776724 |  0.093705186 | -0.153794193 | -0.11318144  |  0.66804729  | -0.68297819  |  0.183005664 | -0.06166827  |\n",
       "| volatile.acidity | -0.25613089  |  1.000000000 | -0.55249568  |  0.001917882 |  0.061297772 | -0.010503827 |  0.07647000  |  0.02202623  |  0.23493729  | -0.260986685 | -0.20228803  |\n",
       "| citric.acid |  0.67170343  | -0.552495685 |  1.00000000  |  0.143577162 |  0.203822914 | -0.060978129 |  0.03553302  |  0.36494718  | -0.54190414  |  0.312770044 |  0.10990325  |\n",
       "| residual.sugar |  0.11477672  |  0.001917882 |  0.14357716  |  1.000000000 |  0.055609535 |  0.187048995 |  0.20302788  |  0.35528337  | -0.08565242  |  0.005527121 |  0.04207544  |\n",
       "| chlorides |  0.09370519  |  0.061297772 |  0.20382291  |  0.055609535 |  1.000000000 |  0.005562147 |  0.04740047  |  0.20063233  | -0.26502613  |  0.371260481 | -0.22114054  |\n",
       "| free.sulfur.dioxide | -0.15379419  | -0.010503827 | -0.06097813  |  0.187048995 |  0.005562147 |  1.000000000 |  0.66766645  | -0.02194583  |  0.07037750  |  0.051657572 | -0.06940835  |\n",
       "| total.sulfur.dioxide | -0.11318144  |  0.076470005 |  0.03553302  |  0.203027882 |  0.047400468 |  0.667666450 |  1.00000000  |  0.07126948  | -0.06649456  |  0.042946836 | -0.20565394  |\n",
       "| density |  0.66804729  |  0.022026232 |  0.36494718  |  0.355283371 |  0.200632327 | -0.021945831 |  0.07126948  |  1.00000000  | -0.34169933  |  0.148506412 | -0.49617977  |\n",
       "| pH | -0.68297819  |  0.234937294 | -0.54190414  | -0.085652422 | -0.265026131 |  0.070377499 | -0.06649456  | -0.34169933  |  1.00000000  | -0.196647602 |  0.20563251  |\n",
       "| sulphates |  0.18300566  | -0.260986685 |  0.31277004  |  0.005527121 |  0.371260481 |  0.051657572 |  0.04294684  |  0.14850641  | -0.19664760  |  1.000000000 |  0.09359475  |\n",
       "| alcohol | -0.06166827  | -0.202288027 |  0.10990325  |  0.042075437 | -0.221140545 | -0.069408354 | -0.20565394  | -0.49617977  |  0.20563251  |  0.093594750 |  1.00000000  |\n",
       "\n"
      ],
      "text/plain": [
       "                     fixed.acidity volatile.acidity citric.acid residual.sugar\n",
       "fixed.acidity         1.00000000   -0.256130895      0.67170343  0.114776724  \n",
       "volatile.acidity     -0.25613089    1.000000000     -0.55249568  0.001917882  \n",
       "citric.acid           0.67170343   -0.552495685      1.00000000  0.143577162  \n",
       "residual.sugar        0.11477672    0.001917882      0.14357716  1.000000000  \n",
       "chlorides             0.09370519    0.061297772      0.20382291  0.055609535  \n",
       "free.sulfur.dioxide  -0.15379419   -0.010503827     -0.06097813  0.187048995  \n",
       "total.sulfur.dioxide -0.11318144    0.076470005      0.03553302  0.203027882  \n",
       "density               0.66804729    0.022026232      0.36494718  0.355283371  \n",
       "pH                   -0.68297819    0.234937294     -0.54190414 -0.085652422  \n",
       "sulphates             0.18300566   -0.260986685      0.31277004  0.005527121  \n",
       "alcohol              -0.06166827   -0.202288027      0.10990325  0.042075437  \n",
       "                     chlorides    free.sulfur.dioxide total.sulfur.dioxide\n",
       "fixed.acidity         0.093705186 -0.153794193        -0.11318144         \n",
       "volatile.acidity      0.061297772 -0.010503827         0.07647000         \n",
       "citric.acid           0.203822914 -0.060978129         0.03553302         \n",
       "residual.sugar        0.055609535  0.187048995         0.20302788         \n",
       "chlorides             1.000000000  0.005562147         0.04740047         \n",
       "free.sulfur.dioxide   0.005562147  1.000000000         0.66766645         \n",
       "total.sulfur.dioxide  0.047400468  0.667666450         1.00000000         \n",
       "density               0.200632327 -0.021945831         0.07126948         \n",
       "pH                   -0.265026131  0.070377499        -0.06649456         \n",
       "sulphates             0.371260481  0.051657572         0.04294684         \n",
       "alcohol              -0.221140545 -0.069408354        -0.20565394         \n",
       "                     density     pH          sulphates    alcohol    \n",
       "fixed.acidity         0.66804729 -0.68297819  0.183005664 -0.06166827\n",
       "volatile.acidity      0.02202623  0.23493729 -0.260986685 -0.20228803\n",
       "citric.acid           0.36494718 -0.54190414  0.312770044  0.10990325\n",
       "residual.sugar        0.35528337 -0.08565242  0.005527121  0.04207544\n",
       "chlorides             0.20063233 -0.26502613  0.371260481 -0.22114054\n",
       "free.sulfur.dioxide  -0.02194583  0.07037750  0.051657572 -0.06940835\n",
       "total.sulfur.dioxide  0.07126948 -0.06649456  0.042946836 -0.20565394\n",
       "density               1.00000000 -0.34169933  0.148506412 -0.49617977\n",
       "pH                   -0.34169933  1.00000000 -0.196647602  0.20563251\n",
       "sulphates             0.14850641 -0.19664760  1.000000000  0.09359475\n",
       "alcohol              -0.49617977  0.20563251  0.093594750  1.00000000"
      ]
     },
     "metadata": {},
     "output_type": "display_data"
    }
   ],
   "source": [
    "cor(wine[, !(colnames(wine) == \"quality\")])"
   ]
  },
  {
   "cell_type": "markdown",
   "id": "bc32c074-d65f-434f-b236-075df4cd18ec",
   "metadata": {},
   "source": [
    "Some independent variables are correlated with eachother. This may cause problems with model buidling.\n",
    "\n",
    "Typically Spearman's Rank Correlation would be used to measure correlation between all continuous-ordinal pairings (independent-dependent variables), but becaue this data has so many ties between rankings of wines, Kendall's Tau will be used instead. Kendall's Tau is designed to handle ties."
   ]
  },
  {
   "cell_type": "code",
   "execution_count": 7,
   "id": "459a742e-4ccd-4a09-b140-de486e903119",
   "metadata": {},
   "outputs": [
    {
     "name": "stderr",
     "output_type": "stream",
     "text": [
      "Loading required package: stats4\n",
      "Loading required package: splines\n",
      "\n",
      "Attaching package: 'VGAM'\n",
      "\n",
      "The following object is masked _by_ '.GlobalEnv':\n",
      "\n",
      "    wine\n",
      "\n"
     ]
    },
    {
     "data": {
      "image/png": "[encoded data removed]",
      "text/plain": [
       "plot without title"
      ]
     },
     "metadata": {},
     "output_type": "display_data"
    }
   ],
   "source": [
    "library(VGAM)\n",
    "\n",
    "var <- names(wine)[1:11]\n",
    "kendal.tau <- rep(NA, 11)\n",
    "\n",
    "for (i in 1:11) {\n",
    "    kendal.tau[i] <- kendall.tau(wine[, var[i]], as.numeric(wine$quality), exact = TRUE)\n",
    "}\n",
    "\n",
    "kendal.tau <- data.frame(var, kendal.tau)\n",
    "\n",
    "plot(kendal.tau)"
   ]
  },
  {
   "cell_type": "markdown",
   "id": "a84fe553-4ac5-4c23-8cb8-37638f302dee",
   "metadata": {},
   "source": [
    "None of the independent variables are strongly correlated with wine quality, but alcohol content is the most correlated."
   ]
  },
  {
   "cell_type": "markdown",
   "id": "62917ca2-47c4-4dcd-acab-14f41add163e",
   "metadata": {},
   "source": [
    "# Prepare Data for Model\n",
    "## Convert the quality values into factors."
   ]
  },
  {
   "cell_type": "code",
   "execution_count": 8,
   "id": "1f31587b-8db4-4f7e-86c5-14c092162a19",
   "metadata": {},
   "outputs": [],
   "source": [
    "wine$quality <- as.ordered(wine$quality)"
   ]
  },
  {
   "cell_type": "markdown",
   "id": "eb055715-966b-47d3-9ccb-01daadd2d4db",
   "metadata": {},
   "source": [
    "## Split Data Into Training and Testing"
   ]
  },
  {
   "cell_type": "code",
   "execution_count": 9,
   "id": "b43c41cf-8420-420e-911f-e2bf174f3712",
   "metadata": {},
   "outputs": [],
   "source": [
    "set.seed(42)\n",
    "samp <- sample(nrow(wine), 0.8 * nrow(wine))\n",
    "train <- wine[samp, ]\n",
    "test <- wine[-samp, ]"
   ]
  },
  {
   "cell_type": "markdown",
   "id": "c2087f27-6e60-45c7-9d05-6346a69b3666",
   "metadata": {},
   "source": [
    "# Build Model"
   ]
  },
  {
   "cell_type": "markdown",
   "id": "a504e29d-4a9c-4ba4-a0d3-b1734b283ff3",
   "metadata": {},
   "source": [
    "## Create Class Weights\n",
    "Creating class weights that are inversely related to the prevelance of that class will help encourage the model to make class predictions on uncommon classes."
   ]
  },
  {
   "cell_type": "code",
   "execution_count": 10,
   "id": "ef8b6eaa-eb71-4485-9e01-3482647008ae",
   "metadata": {},
   "outputs": [
    {
     "data": {
      "text/html": [
       "<dl class=dl-horizontal>\n",
       "\t<dt>3</dt>\n",
       "\t\t<dd>159.875</dd>\n",
       "\t<dt>4</dt>\n",
       "\t\t<dd>29.0681818181818</dd>\n",
       "\t<dt>5</dt>\n",
       "\t\t<dd>2.35110294117647</dd>\n",
       "\t<dt>6</dt>\n",
       "\t\t<dd>2.47388781431335</dd>\n",
       "\t<dt>7</dt>\n",
       "\t\t<dd>8.35947712418301</dd>\n",
       "\t<dt>8</dt>\n",
       "\t\t<dd>98.3846153846154</dd>\n",
       "</dl>\n"
      ],
      "text/latex": [
       "\\begin{description*}\n",
       "\\item[3] 159.875\n",
       "\\item[4] 29.0681818181818\n",
       "\\item[5] 2.35110294117647\n",
       "\\item[6] 2.47388781431335\n",
       "\\item[7] 8.35947712418301\n",
       "\\item[8] 98.3846153846154\n",
       "\\end{description*}\n"
      ],
      "text/markdown": [
       "3\n",
       ":   159.8754\n",
       ":   29.06818181818185\n",
       ":   2.351102941176476\n",
       ":   2.473887814313357\n",
       ":   8.359477124183018\n",
       ":   98.3846153846154\n",
       "\n"
      ],
      "text/plain": [
       "         3          4          5          6          7          8 \n",
       "159.875000  29.068182   2.351103   2.473888   8.359477  98.384615 "
      ]
     },
     "metadata": {},
     "output_type": "display_data"
    }
   ],
   "source": [
    "class.wt <- nrow(train) / summary(train$quality)\n",
    "class.wt"
   ]
  },
  {
   "cell_type": "markdown",
   "id": "f683cd96-e322-45b8-a942-037c620eee75",
   "metadata": {},
   "source": [
    "## Fit Model"
   ]
  },
  {
   "cell_type": "code",
   "execution_count": 11,
   "id": "a6060a30-86e0-47c5-a9e5-55616ea1ff65",
   "metadata": {},
   "outputs": [
    {
     "name": "stderr",
     "output_type": "stream",
     "text": [
      "randomForest 4.6-14\n",
      "Type rfNews() to see new features/changes/bug fixes.\n",
      "\n",
      "Attaching package: 'randomForest'\n",
      "\n",
      "The following object is masked from 'package:ggplot2':\n",
      "\n",
      "    margin\n",
      "\n"
     ]
    },
    {
     "data": {
      "text/plain": [
       "\n",
       "Call:\n",
       " randomForest(formula = quality ~ ., data = train, ntree = 1000,      mtry = 5, classwt = class.wt, Importance = TRUE) \n",
       "               Type of random forest: classification\n",
       "                     Number of trees: 1000\n",
       "No. of variables tried at each split: 5\n",
       "\n",
       "        OOB estimate of  error rate: 30.26%\n",
       "Confusion matrix:\n",
       "  3 4   5   6  7 8 class.error\n",
       "3 0 0   6   2  0 0   1.0000000\n",
       "4 0 0  32  11  1 0   1.0000000\n",
       "5 1 0 441  99  3 0   0.1893382\n",
       "6 0 0 115 381 21 0   0.2630561\n",
       "7 0 0   9  76 68 0   0.5555556\n",
       "8 0 0   0   8  3 2   0.8461538"
      ]
     },
     "metadata": {},
     "output_type": "display_data"
    }
   ],
   "source": [
    "library(randomForest)\n",
    "\n",
    "model <- randomForest(quality ~ ., data = train, ntree = 1000, mtry = 5, classwt = class.wt, Importance = TRUE)\n",
    "\n",
    "model"
   ]
  },
  {
   "cell_type": "markdown",
   "id": "52232b4c-7354-4026-9619-872c54eb4c48",
   "metadata": {},
   "source": [
    "## Variable Importance"
   ]
  },
  {
   "cell_type": "code",
   "execution_count": 12,
   "id": "c59d3123-aaef-4071-b80f-6280958bc0fb",
   "metadata": {},
   "outputs": [
    {
     "data": {
      "text/html": [
       "<table>\n",
       "<thead><tr><th></th><th scope=col>MeanDecreaseGini</th></tr></thead>\n",
       "<tbody>\n",
       "\t<tr><th scope=row>alcohol</th><td>138.37505</td></tr>\n",
       "\t<tr><th scope=row>sulphates</th><td>133.06089</td></tr>\n",
       "\t<tr><th scope=row>volatile.acidity</th><td>115.20571</td></tr>\n",
       "\t<tr><th scope=row>chlorides</th><td>106.56542</td></tr>\n",
       "\t<tr><th scope=row>density</th><td> 49.47299</td></tr>\n",
       "\t<tr><th scope=row>pH</th><td> 45.09919</td></tr>\n",
       "\t<tr><th scope=row>citric.acid</th><td> 43.76360</td></tr>\n",
       "\t<tr><th scope=row>total.sulfur.dioxide</th><td> 40.59024</td></tr>\n",
       "\t<tr><th scope=row>fixed.acidity</th><td> 23.50309</td></tr>\n",
       "\t<tr><th scope=row>residual.sugar</th><td> 22.32345</td></tr>\n",
       "\t<tr><th scope=row>free.sulfur.dioxide</th><td> 19.73800</td></tr>\n",
       "</tbody>\n",
       "</table>\n"
      ],
      "text/latex": [
       "\\begin{tabular}{r|l}\n",
       "  & MeanDecreaseGini\\\\\n",
       "\\hline\n",
       "\talcohol & 138.37505\\\\\n",
       "\tsulphates & 133.06089\\\\\n",
       "\tvolatile.acidity & 115.20571\\\\\n",
       "\tchlorides & 106.56542\\\\\n",
       "\tdensity &  49.47299\\\\\n",
       "\tpH &  45.09919\\\\\n",
       "\tcitric.acid &  43.76360\\\\\n",
       "\ttotal.sulfur.dioxide &  40.59024\\\\\n",
       "\tfixed.acidity &  23.50309\\\\\n",
       "\tresidual.sugar &  22.32345\\\\\n",
       "\tfree.sulfur.dioxide &  19.73800\\\\\n",
       "\\end{tabular}\n"
      ],
      "text/markdown": [
       "\n",
       "| <!--/--> | MeanDecreaseGini |\n",
       "|---|---|\n",
       "| alcohol | 138.37505 |\n",
       "| sulphates | 133.06089 |\n",
       "| volatile.acidity | 115.20571 |\n",
       "| chlorides | 106.56542 |\n",
       "| density |  49.47299 |\n",
       "| pH |  45.09919 |\n",
       "| citric.acid |  43.76360 |\n",
       "| total.sulfur.dioxide |  40.59024 |\n",
       "| fixed.acidity |  23.50309 |\n",
       "| residual.sugar |  22.32345 |\n",
       "| free.sulfur.dioxide |  19.73800 |\n",
       "\n"
      ],
      "text/plain": [
       "                     MeanDecreaseGini\n",
       "alcohol              138.37505       \n",
       "sulphates            133.06089       \n",
       "volatile.acidity     115.20571       \n",
       "chlorides            106.56542       \n",
       "density               49.47299       \n",
       "pH                    45.09919       \n",
       "citric.acid           43.76360       \n",
       "total.sulfur.dioxide  40.59024       \n",
       "fixed.acidity         23.50309       \n",
       "residual.sugar        22.32345       \n",
       "free.sulfur.dioxide   19.73800       "
      ]
     },
     "metadata": {},
     "output_type": "display_data"
    }
   ],
   "source": [
    "variable.importance <- data.frame(importance(model), rep(NA))\n",
    "# Sort by MeanDecreaseGini\n",
    "variable.importance <- variable.importance[order(variable.importance$MeanDecreaseGini, decreasing = TRUE), ]\n",
    "variable.importance <- subset(variable.importance, select = c(MeanDecreaseGini))\n",
    "\n",
    "variable.importance"
   ]
  },
  {
   "cell_type": "markdown",
   "id": "21329310-a64a-48f2-9e04-d631b45bd79e",
   "metadata": {},
   "source": [
    "MeanDecreaseGini measures the average amount (accross all decision trees) that grouping the remaining wine samples on a particular variable reduces the level of impurity (or degree to which the samples have different outcomes). This can be interpreted as a measure of the importance of each variable in determining (or helping to determine) the correct outcome of each sample."
   ]
  },
  {
   "cell_type": "markdown",
   "id": "44a0ede8-2a03-4aaf-bc14-8e59d7dc0d85",
   "metadata": {},
   "source": [
    "## Model Performance"
   ]
  },
  {
   "cell_type": "code",
   "execution_count": 14,
   "id": "0e8b7123-e76d-4c33-b15e-665911e06bcb",
   "metadata": {},
   "outputs": [
    {
     "name": "stderr",
     "output_type": "stream",
     "text": [
      "\n",
      "Attaching package: 'caret'\n",
      "\n",
      "The following object is masked from 'package:VGAM':\n",
      "\n",
      "    predictors\n",
      "\n",
      "The following object is masked from 'package:survival':\n",
      "\n",
      "    cluster\n",
      "\n"
     ]
    },
    {
     "data": {
      "text/plain": [
       "Confusion Matrix and Statistics\n",
       "\n",
       "          Reference\n",
       "Prediction   3   4   5   6   7   8\n",
       "         3   0   0   0   0   0   0\n",
       "         4   0   0   0   0   0   0\n",
       "         5   1   2 111  21   1   0\n",
       "         6   1   7  26  95  22   2\n",
       "         7   0   0   0   5  23   3\n",
       "         8   0   0   0   0   0   0\n",
       "\n",
       "Overall Statistics\n",
       "                                          \n",
       "               Accuracy : 0.7156          \n",
       "                 95% CI : (0.6628, 0.7644)\n",
       "    No Information Rate : 0.4281          \n",
       "    P-Value [Acc > NIR] : < 2.2e-16       \n",
       "                                          \n",
       "                  Kappa : 0.5438          \n",
       "                                          \n",
       " Mcnemar's Test P-Value : NA              \n",
       "\n",
       "Statistics by Class:\n",
       "\n",
       "                     Class: 3 Class: 4 Class: 5 Class: 6 Class: 7 Class: 8\n",
       "Sensitivity           0.00000  0.00000   0.8102   0.7851  0.50000  0.00000\n",
       "Specificity           1.00000  1.00000   0.8634   0.7085  0.97080  1.00000\n",
       "Pos Pred Value            NaN      NaN   0.8162   0.6209  0.74194      NaN\n",
       "Neg Pred Value        0.99375  0.97188   0.8587   0.8443  0.92042  0.98438\n",
       "Prevalence            0.00625  0.02813   0.4281   0.3781  0.14375  0.01562\n",
       "Detection Rate        0.00000  0.00000   0.3469   0.2969  0.07187  0.00000\n",
       "Detection Prevalence  0.00000  0.00000   0.4250   0.4781  0.09688  0.00000\n",
       "Balanced Accuracy     0.50000  0.50000   0.8368   0.7468  0.73540  0.50000"
      ]
     },
     "metadata": {},
     "output_type": "display_data"
    }
   ],
   "source": [
    "library(caret)\n",
    "\n",
    "# Make predictions\n",
    "predictions <- predict(model, newdata = test)\n",
    "\n",
    "confusionMatrix(predictions, test$quality)"
   ]
  },
  {
   "cell_type": "markdown",
   "id": "c888c219-b5c8-4fdb-8ba3-3ec8db78f3d1",
   "metadata": {},
   "source": [
    "### Compare Outcome Distributions"
   ]
  },
  {
   "cell_type": "code",
   "execution_count": 15,
   "id": "f5a4ea55-84b0-4017-97ce-8af9b809f836",
   "metadata": {},
   "outputs": [
    {
     "data": {
      "text/html": [
       "<table>\n",
       "<thead><tr><th></th><th scope=col>train</th><th scope=col>test</th><th scope=col>prediction</th></tr></thead>\n",
       "<tbody>\n",
       "\t<tr><th scope=row>3</th><td> 0.6254887</td><td> 0.6250   </td><td> 0.0000   </td></tr>\n",
       "\t<tr><th scope=row>4</th><td> 3.4401876</td><td> 2.8125   </td><td> 0.0000   </td></tr>\n",
       "\t<tr><th scope=row>5</th><td>42.5332291</td><td>42.8125   </td><td>42.5000   </td></tr>\n",
       "\t<tr><th scope=row>6</th><td>40.4222048</td><td>37.8125   </td><td>47.8125   </td></tr>\n",
       "\t<tr><th scope=row>7</th><td>11.9624707</td><td>14.3750   </td><td> 9.6875   </td></tr>\n",
       "\t<tr><th scope=row>8</th><td> 1.0164191</td><td> 1.5625   </td><td> 0.0000   </td></tr>\n",
       "</tbody>\n",
       "</table>\n"
      ],
      "text/latex": [
       "\\begin{tabular}{r|lll}\n",
       "  & train & test & prediction\\\\\n",
       "\\hline\n",
       "\t3 &  0.6254887 &  0.6250    &  0.0000   \\\\\n",
       "\t4 &  3.4401876 &  2.8125    &  0.0000   \\\\\n",
       "\t5 & 42.5332291 & 42.8125    & 42.5000   \\\\\n",
       "\t6 & 40.4222048 & 37.8125    & 47.8125   \\\\\n",
       "\t7 & 11.9624707 & 14.3750    &  9.6875   \\\\\n",
       "\t8 &  1.0164191 &  1.5625    &  0.0000   \\\\\n",
       "\\end{tabular}\n"
      ],
      "text/markdown": [
       "\n",
       "| <!--/--> | train | test | prediction |\n",
       "|---|---|---|---|\n",
       "| 3 |  0.6254887 |  0.6250    |  0.0000    |\n",
       "| 4 |  3.4401876 |  2.8125    |  0.0000    |\n",
       "| 5 | 42.5332291 | 42.8125    | 42.5000    |\n",
       "| 6 | 40.4222048 | 37.8125    | 47.8125    |\n",
       "| 7 | 11.9624707 | 14.3750    |  9.6875    |\n",
       "| 8 |  1.0164191 |  1.5625    |  0.0000    |\n",
       "\n"
      ],
      "text/plain": [
       "  train      test    prediction\n",
       "3  0.6254887  0.6250  0.0000   \n",
       "4  3.4401876  2.8125  0.0000   \n",
       "5 42.5332291 42.8125 42.5000   \n",
       "6 40.4222048 37.8125 47.8125   \n",
       "7 11.9624707 14.3750  9.6875   \n",
       "8  1.0164191  1.5625  0.0000   "
      ]
     },
     "metadata": {},
     "output_type": "display_data"
    }
   ],
   "source": [
    "outcome.distributions <- data.frame(\n",
    "    train=summary(train$quality) * 100 / length(train$quality), \n",
    "    test=summary(test$quality) * 100 / length(test$quality),\n",
    "    prediction=summary(predictions) * 100 / length(predictions)\n",
    ")\n",
    "\n",
    "outcome.distributions"
   ]
  },
  {
   "cell_type": "code",
   "execution_count": 16,
   "id": "328c4bae-ab43-4e53-95e9-becb5a903a61",
   "metadata": {},
   "outputs": [
    {
     "data": {
      "image/png": "[encoded data removed]",
      "text/plain": [
       "plot without title"
      ]
     },
     "metadata": {},
     "output_type": "display_data"
    }
   ],
   "source": [
    "lwd <- 2\n",
    "\n",
    "plot(outcome.distributions$train, type = 'l', lty = 1, lwd = lwd, ylim = c(0,50), xlab = \"Wine Quality\", ylab = \"Percent of Data Subset\", xaxt = 'n')\n",
    "axis(1, at = c(1:6), labels = 3:8)\n",
    "lines(outcome.distributions$test, type = 'l', lty = 2, lwd = lwd)\n",
    "lines(outcome.distributions$prediction, type = 'l', lty = 3, lwd = lwd)\n",
    "\n",
    "legend(\"topright\",                                       # Add legend to plot\n",
    "       legend = c(\"Train\", \"Test\", \"Prediction\"),\n",
    "       lty = c(1, 2, 3),\n",
    "       lwd = lwd)"
   ]
  },
  {
   "cell_type": "markdown",
   "id": "49fca7ee-d091-413c-9804-c252717aa57b",
   "metadata": {},
   "source": [
    "Most of the data has wine qualities of 5 and 6."
   ]
  },
  {
   "cell_type": "code",
   "execution_count": 17,
   "id": "ba9692b4-4fb8-48ab-9490-446c6a149eb0",
   "metadata": {},
   "outputs": [
    {
     "data": {
      "image/png": "[encoded data removed]",
      "text/plain": [
       "plot without title"
      ]
     },
     "metadata": {},
     "output_type": "display_data"
    }
   ],
   "source": [
    "library(ggplot2)\n",
    "\n",
    "# Create this dataframe to plot both Predictions and Actuals in the same histogram\n",
    "group <- c(rep(\"Prediction\", length(predictions)), \n",
    "           rep(\"Actual\", length(test$quality)))\n",
    "\n",
    "outcomes <- data.frame(values=c(as.numeric(predictions), as.numeric(test$quality)), group)\n",
    "\n",
    "ggplot(outcomes, aes(x=values, fill=group)) +\n",
    "    geom_histogram(position = \"identity\", alpha = 0.4, bins = 6) +\n",
    "    scale_x_continuous(\"Wine Quality\", breaks = c(1:6), labels = c(3:8))"
   ]
  },
  {
   "cell_type": "markdown",
   "id": "9bfa3263-41f6-45ba-ade4-c82de762383e",
   "metadata": {},
   "source": [
    "The model is overpredicting wine qualities 5, 6 and underpredicting all others."
   ]
  },
  {
   "cell_type": "markdown",
   "id": "1fea7a12-de25-4b63-92d4-b094b32951ee",
   "metadata": {},
   "source": [
    "# Conclusion\n",
    "\n",
    "## Important Variables\n",
    "This Random Forest model found the following importance ranking for the variables in determining the wine quality for each wine:"
   ]
  },
  {
   "cell_type": "code",
   "execution_count": 18,
   "id": "8c2541ea-80ee-4bf8-a2bd-6d68c0002592",
   "metadata": {},
   "outputs": [
    {
     "data": {
      "text/html": [
       "<table>\n",
       "<thead><tr><th></th><th scope=col>MeanDecreaseGini</th></tr></thead>\n",
       "<tbody>\n",
       "\t<tr><th scope=row>alcohol</th><td>138.37505</td></tr>\n",
       "\t<tr><th scope=row>sulphates</th><td>133.06089</td></tr>\n",
       "\t<tr><th scope=row>volatile.acidity</th><td>115.20571</td></tr>\n",
       "\t<tr><th scope=row>chlorides</th><td>106.56542</td></tr>\n",
       "\t<tr><th scope=row>density</th><td> 49.47299</td></tr>\n",
       "\t<tr><th scope=row>pH</th><td> 45.09919</td></tr>\n",
       "\t<tr><th scope=row>citric.acid</th><td> 43.76360</td></tr>\n",
       "\t<tr><th scope=row>total.sulfur.dioxide</th><td> 40.59024</td></tr>\n",
       "\t<tr><th scope=row>fixed.acidity</th><td> 23.50309</td></tr>\n",
       "\t<tr><th scope=row>residual.sugar</th><td> 22.32345</td></tr>\n",
       "\t<tr><th scope=row>free.sulfur.dioxide</th><td> 19.73800</td></tr>\n",
       "</tbody>\n",
       "</table>\n"
      ],
      "text/latex": [
       "\\begin{tabular}{r|l}\n",
       "  & MeanDecreaseGini\\\\\n",
       "\\hline\n",
       "\talcohol & 138.37505\\\\\n",
       "\tsulphates & 133.06089\\\\\n",
       "\tvolatile.acidity & 115.20571\\\\\n",
       "\tchlorides & 106.56542\\\\\n",
       "\tdensity &  49.47299\\\\\n",
       "\tpH &  45.09919\\\\\n",
       "\tcitric.acid &  43.76360\\\\\n",
       "\ttotal.sulfur.dioxide &  40.59024\\\\\n",
       "\tfixed.acidity &  23.50309\\\\\n",
       "\tresidual.sugar &  22.32345\\\\\n",
       "\tfree.sulfur.dioxide &  19.73800\\\\\n",
       "\\end{tabular}\n"
      ],
      "text/markdown": [
       "\n",
       "| <!--/--> | MeanDecreaseGini |\n",
       "|---|---|\n",
       "| alcohol | 138.37505 |\n",
       "| sulphates | 133.06089 |\n",
       "| volatile.acidity | 115.20571 |\n",
       "| chlorides | 106.56542 |\n",
       "| density |  49.47299 |\n",
       "| pH |  45.09919 |\n",
       "| citric.acid |  43.76360 |\n",
       "| total.sulfur.dioxide |  40.59024 |\n",
       "| fixed.acidity |  23.50309 |\n",
       "| residual.sugar |  22.32345 |\n",
       "| free.sulfur.dioxide |  19.73800 |\n",
       "\n"
      ],
      "text/plain": [
       "                     MeanDecreaseGini\n",
       "alcohol              138.37505       \n",
       "sulphates            133.06089       \n",
       "volatile.acidity     115.20571       \n",
       "chlorides            106.56542       \n",
       "density               49.47299       \n",
       "pH                    45.09919       \n",
       "citric.acid           43.76360       \n",
       "total.sulfur.dioxide  40.59024       \n",
       "fixed.acidity         23.50309       \n",
       "residual.sugar        22.32345       \n",
       "free.sulfur.dioxide   19.73800       "
      ]
     },
     "metadata": {},
     "output_type": "display_data"
    }
   ],
   "source": [
    "variable.importance"
   ]
  },
  {
   "cell_type": "markdown",
   "id": "fc6f0fb6-99bf-403c-a818-cdcaf53c0371",
   "metadata": {},
   "source": [
    "The first four variables, 'alcohol', 'sulphates', 'volatile.acidity', and 'chlorides' contribute much more to determining the outcome than the other variables. If cost of data collection were an issue - these would be the measurements to focus on.\n",
    "\n",
    "## Performance\n",
    "Overall model performance is relatively high given that there are 6 possible outcome classes - accuracy is 72%, but the model does a poor job of correctly classifying the extreme wine qualities. The model did not capture any of the 3, 4, or 8 wine qualities (sensitivity = 0% for those classes). Performance is high for the 5 and 6 wine qualities and good for the 7 wine quality. This behaviour is likely due to the relative distributions of the wine qualities in the data - if the model were to always guess that the wine quality is 5 or 6, it would be correct a large portion of the time. This issue was mitigated to some extent by using class weights, but clearly the model is still not predicting any of the rarer classes."
   ]
  },
  {
   "cell_type": "code",
   "execution_count": null,
   "id": "4e74b2e2-eb9f-4c34-9938-be067fdd8487",
   "metadata": {},
   "outputs": [],
   "source": []
  }
 ],
 "metadata": {
  "kernelspec": {
   "display_name": "R",
   "language": "R",
   "name": "ir"
  },
  "language_info": {
   "codemirror_mode": "r",
   "file_extension": ".r",
   "mimetype": "text/x-r-source",
   "name": "R",
   "pygments_lexer": "r",
   "version": "3.6.1"
  },
  "toc-showcode": false,
  "toc-showmarkdowntxt": false
 },
 "nbformat": 4,
 "nbformat_minor": 5
}
