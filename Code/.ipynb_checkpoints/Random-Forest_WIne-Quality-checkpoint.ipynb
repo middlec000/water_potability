{
 "cells": [
  {
   "cell_type": "markdown",
   "id": "32410f24-88a5-483d-867e-da546257db5b",
   "metadata": {},
   "source": [
    "# Wine Quality\n",
    "\n",
    "Practice example from: https://www.simplilearn.com/tutorials/data-science-tutorial/random-forest-in-r "
   ]
  },
  {
   "cell_type": "markdown",
   "id": "f36330ef-5584-469f-88c6-c33942214ad3",
   "metadata": {},
   "source": [
    "# Import and Explore Data"
   ]
  },
  {
   "cell_type": "code",
   "execution_count": 1,
   "id": "71b74b78-61f0-4e4d-9bba-ef71ada29e64",
   "metadata": {},
   "outputs": [
    {
     "data": {
      "text/html": [
       "<table>\n",
       "<thead><tr><th scope=col>fixed.acidity</th><th scope=col>volatile.acidity</th><th scope=col>citric.acid</th><th scope=col>residual.sugar</th><th scope=col>chlorides</th><th scope=col>free.sulfur.dioxide</th><th scope=col>total.sulfur.dioxide</th><th scope=col>density</th><th scope=col>pH</th><th scope=col>sulphates</th><th scope=col>alcohol</th><th scope=col>quality</th></tr></thead>\n",
       "<tbody>\n",
       "\t<tr><td> 7.4  </td><td>0.70  </td><td>0.00  </td><td>1.9   </td><td>0.076 </td><td>11    </td><td>34    </td><td>0.9978</td><td>3.51  </td><td>0.56  </td><td>9.4   </td><td>5     </td></tr>\n",
       "\t<tr><td> 7.8  </td><td>0.88  </td><td>0.00  </td><td>2.6   </td><td>0.098 </td><td>25    </td><td>67    </td><td>0.9968</td><td>3.20  </td><td>0.68  </td><td>9.8   </td><td>5     </td></tr>\n",
       "\t<tr><td> 7.8  </td><td>0.76  </td><td>0.04  </td><td>2.3   </td><td>0.092 </td><td>15    </td><td>54    </td><td>0.9970</td><td>3.26  </td><td>0.65  </td><td>9.8   </td><td>5     </td></tr>\n",
       "\t<tr><td>11.2  </td><td>0.28  </td><td>0.56  </td><td>1.9   </td><td>0.075 </td><td>17    </td><td>60    </td><td>0.9980</td><td>3.16  </td><td>0.58  </td><td>9.8   </td><td>6     </td></tr>\n",
       "\t<tr><td> 7.4  </td><td>0.70  </td><td>0.00  </td><td>1.9   </td><td>0.076 </td><td>11    </td><td>34    </td><td>0.9978</td><td>3.51  </td><td>0.56  </td><td>9.4   </td><td>5     </td></tr>\n",
       "\t<tr><td> 7.4  </td><td>0.66  </td><td>0.00  </td><td>1.8   </td><td>0.075 </td><td>13    </td><td>40    </td><td>0.9978</td><td>3.51  </td><td>0.56  </td><td>9.4   </td><td>5     </td></tr>\n",
       "</tbody>\n",
       "</table>\n"
      ],
      "text/latex": [
       "\\begin{tabular}{r|llllllllllll}\n",
       " fixed.acidity & volatile.acidity & citric.acid & residual.sugar & chlorides & free.sulfur.dioxide & total.sulfur.dioxide & density & pH & sulphates & alcohol & quality\\\\\n",
       "\\hline\n",
       "\t  7.4   & 0.70   & 0.00   & 1.9    & 0.076  & 11     & 34     & 0.9978 & 3.51   & 0.56   & 9.4    & 5     \\\\\n",
       "\t  7.8   & 0.88   & 0.00   & 2.6    & 0.098  & 25     & 67     & 0.9968 & 3.20   & 0.68   & 9.8    & 5     \\\\\n",
       "\t  7.8   & 0.76   & 0.04   & 2.3    & 0.092  & 15     & 54     & 0.9970 & 3.26   & 0.65   & 9.8    & 5     \\\\\n",
       "\t 11.2   & 0.28   & 0.56   & 1.9    & 0.075  & 17     & 60     & 0.9980 & 3.16   & 0.58   & 9.8    & 6     \\\\\n",
       "\t  7.4   & 0.70   & 0.00   & 1.9    & 0.076  & 11     & 34     & 0.9978 & 3.51   & 0.56   & 9.4    & 5     \\\\\n",
       "\t  7.4   & 0.66   & 0.00   & 1.8    & 0.075  & 13     & 40     & 0.9978 & 3.51   & 0.56   & 9.4    & 5     \\\\\n",
       "\\end{tabular}\n"
      ],
      "text/markdown": [
       "\n",
       "| fixed.acidity | volatile.acidity | citric.acid | residual.sugar | chlorides | free.sulfur.dioxide | total.sulfur.dioxide | density | pH | sulphates | alcohol | quality |\n",
       "|---|---|---|---|---|---|---|---|---|---|---|---|\n",
       "|  7.4   | 0.70   | 0.00   | 1.9    | 0.076  | 11     | 34     | 0.9978 | 3.51   | 0.56   | 9.4    | 5      |\n",
       "|  7.8   | 0.88   | 0.00   | 2.6    | 0.098  | 25     | 67     | 0.9968 | 3.20   | 0.68   | 9.8    | 5      |\n",
       "|  7.8   | 0.76   | 0.04   | 2.3    | 0.092  | 15     | 54     | 0.9970 | 3.26   | 0.65   | 9.8    | 5      |\n",
       "| 11.2   | 0.28   | 0.56   | 1.9    | 0.075  | 17     | 60     | 0.9980 | 3.16   | 0.58   | 9.8    | 6      |\n",
       "|  7.4   | 0.70   | 0.00   | 1.9    | 0.076  | 11     | 34     | 0.9978 | 3.51   | 0.56   | 9.4    | 5      |\n",
       "|  7.4   | 0.66   | 0.00   | 1.8    | 0.075  | 13     | 40     | 0.9978 | 3.51   | 0.56   | 9.4    | 5      |\n",
       "\n"
      ],
      "text/plain": [
       "  fixed.acidity volatile.acidity citric.acid residual.sugar chlorides\n",
       "1  7.4          0.70             0.00        1.9            0.076    \n",
       "2  7.8          0.88             0.00        2.6            0.098    \n",
       "3  7.8          0.76             0.04        2.3            0.092    \n",
       "4 11.2          0.28             0.56        1.9            0.075    \n",
       "5  7.4          0.70             0.00        1.9            0.076    \n",
       "6  7.4          0.66             0.00        1.8            0.075    \n",
       "  free.sulfur.dioxide total.sulfur.dioxide density pH   sulphates alcohol\n",
       "1 11                  34                   0.9978  3.51 0.56      9.4    \n",
       "2 25                  67                   0.9968  3.20 0.68      9.8    \n",
       "3 15                  54                   0.9970  3.26 0.65      9.8    \n",
       "4 17                  60                   0.9980  3.16 0.58      9.8    \n",
       "5 11                  34                   0.9978  3.51 0.56      9.4    \n",
       "6 13                  40                   0.9978  3.51 0.56      9.4    \n",
       "  quality\n",
       "1 5      \n",
       "2 5      \n",
       "3 5      \n",
       "4 6      \n",
       "5 5      \n",
       "6 5      "
      ]
     },
     "metadata": {},
     "output_type": "display_data"
    }
   ],
   "source": [
    "wine <- read.csv(url(\"https://archive.ics.uci.edu/ml/machine-learning-databases/wine-quality/winequality-red.csv\"), header = TRUE, sep = \";\") # This command is used to load the dataset\n",
    "\n",
    "head(wine)"
   ]
  },
  {
   "cell_type": "code",
   "execution_count": 2,
   "id": "364e4212-5605-494e-b985-fcc33aacb3c0",
   "metadata": {},
   "outputs": [
    {
     "data": {
      "text/html": [
       "<table>\n",
       "<thead><tr><th></th><th scope=col>Min.</th><th scope=col>1st Qu.</th><th scope=col>Median</th><th scope=col>Mean</th><th scope=col>3rd Qu.</th><th scope=col>Max.</th></tr></thead>\n",
       "<tbody>\n",
       "\t<tr><th scope=row>fixed.acidity</th><td>4.60000    </td><td> 7.1000    </td><td> 7.90000   </td><td> 8.31963727</td><td> 9.200000  </td><td> 15.90000  </td></tr>\n",
       "\t<tr><th scope=row>volatile.acidity</th><td>0.12000    </td><td> 0.3900    </td><td> 0.52000   </td><td> 0.52782051</td><td> 0.640000  </td><td>  1.58000  </td></tr>\n",
       "\t<tr><th scope=row>citric.acid</th><td>0.00000    </td><td> 0.0900    </td><td> 0.26000   </td><td> 0.27097561</td><td> 0.420000  </td><td>  1.00000  </td></tr>\n",
       "\t<tr><th scope=row>residual.sugar</th><td>0.90000    </td><td> 1.9000    </td><td> 2.20000   </td><td> 2.53880550</td><td> 2.600000  </td><td> 15.50000  </td></tr>\n",
       "\t<tr><th scope=row>chlorides</th><td>0.01200    </td><td> 0.0700    </td><td> 0.07900   </td><td> 0.08746654</td><td> 0.090000  </td><td>  0.61100  </td></tr>\n",
       "\t<tr><th scope=row>free.sulfur.dioxide</th><td>1.00000    </td><td> 7.0000    </td><td>14.00000   </td><td>15.87492183</td><td>21.000000  </td><td> 72.00000  </td></tr>\n",
       "\t<tr><th scope=row>total.sulfur.dioxide</th><td>6.00000    </td><td>22.0000    </td><td>38.00000   </td><td>46.46779237</td><td>62.000000  </td><td>289.00000  </td></tr>\n",
       "\t<tr><th scope=row>density</th><td>0.99007    </td><td> 0.9956    </td><td> 0.99675   </td><td> 0.99674668</td><td> 0.997835  </td><td>  1.00369  </td></tr>\n",
       "\t<tr><th scope=row>pH</th><td>2.74000    </td><td> 3.2100    </td><td> 3.31000   </td><td> 3.31111320</td><td> 3.400000  </td><td>  4.01000  </td></tr>\n",
       "\t<tr><th scope=row>sulphates</th><td>0.33000    </td><td> 0.5500    </td><td> 0.62000   </td><td> 0.65814884</td><td> 0.730000  </td><td>  2.00000  </td></tr>\n",
       "\t<tr><th scope=row>alcohol</th><td>8.40000    </td><td> 9.5000    </td><td>10.20000   </td><td>10.42298311</td><td>11.100000  </td><td> 14.90000  </td></tr>\n",
       "\t<tr><th scope=row>quality</th><td>3.00000    </td><td> 5.0000    </td><td> 6.00000   </td><td> 5.63602251</td><td> 6.000000  </td><td>  8.00000  </td></tr>\n",
       "</tbody>\n",
       "</table>\n"
      ],
      "text/latex": [
       "\\begin{tabular}{r|llllll}\n",
       "  & Min. & 1st Qu. & Median & Mean & 3rd Qu. & Max.\\\\\n",
       "\\hline\n",
       "\tfixed.acidity & 4.60000     &  7.1000     &  7.90000    &  8.31963727 &  9.200000   &  15.90000  \\\\\n",
       "\tvolatile.acidity & 0.12000     &  0.3900     &  0.52000    &  0.52782051 &  0.640000   &   1.58000  \\\\\n",
       "\tcitric.acid & 0.00000     &  0.0900     &  0.26000    &  0.27097561 &  0.420000   &   1.00000  \\\\\n",
       "\tresidual.sugar & 0.90000     &  1.9000     &  2.20000    &  2.53880550 &  2.600000   &  15.50000  \\\\\n",
       "\tchlorides & 0.01200     &  0.0700     &  0.07900    &  0.08746654 &  0.090000   &   0.61100  \\\\\n",
       "\tfree.sulfur.dioxide & 1.00000     &  7.0000     & 14.00000    & 15.87492183 & 21.000000   &  72.00000  \\\\\n",
       "\ttotal.sulfur.dioxide & 6.00000     & 22.0000     & 38.00000    & 46.46779237 & 62.000000   & 289.00000  \\\\\n",
       "\tdensity & 0.99007     &  0.9956     &  0.99675    &  0.99674668 &  0.997835   &   1.00369  \\\\\n",
       "\tpH & 2.74000     &  3.2100     &  3.31000    &  3.31111320 &  3.400000   &   4.01000  \\\\\n",
       "\tsulphates & 0.33000     &  0.5500     &  0.62000    &  0.65814884 &  0.730000   &   2.00000  \\\\\n",
       "\talcohol & 8.40000     &  9.5000     & 10.20000    & 10.42298311 & 11.100000   &  14.90000  \\\\\n",
       "\tquality & 3.00000     &  5.0000     &  6.00000    &  5.63602251 &  6.000000   &   8.00000  \\\\\n",
       "\\end{tabular}\n"
      ],
      "text/markdown": [
       "\n",
       "| <!--/--> | Min. | 1st Qu. | Median | Mean | 3rd Qu. | Max. |\n",
       "|---|---|---|---|---|---|---|\n",
       "| fixed.acidity | 4.60000     |  7.1000     |  7.90000    |  8.31963727 |  9.200000   |  15.90000   |\n",
       "| volatile.acidity | 0.12000     |  0.3900     |  0.52000    |  0.52782051 |  0.640000   |   1.58000   |\n",
       "| citric.acid | 0.00000     |  0.0900     |  0.26000    |  0.27097561 |  0.420000   |   1.00000   |\n",
       "| residual.sugar | 0.90000     |  1.9000     |  2.20000    |  2.53880550 |  2.600000   |  15.50000   |\n",
       "| chlorides | 0.01200     |  0.0700     |  0.07900    |  0.08746654 |  0.090000   |   0.61100   |\n",
       "| free.sulfur.dioxide | 1.00000     |  7.0000     | 14.00000    | 15.87492183 | 21.000000   |  72.00000   |\n",
       "| total.sulfur.dioxide | 6.00000     | 22.0000     | 38.00000    | 46.46779237 | 62.000000   | 289.00000   |\n",
       "| density | 0.99007     |  0.9956     |  0.99675    |  0.99674668 |  0.997835   |   1.00369   |\n",
       "| pH | 2.74000     |  3.2100     |  3.31000    |  3.31111320 |  3.400000   |   4.01000   |\n",
       "| sulphates | 0.33000     |  0.5500     |  0.62000    |  0.65814884 |  0.730000   |   2.00000   |\n",
       "| alcohol | 8.40000     |  9.5000     | 10.20000    | 10.42298311 | 11.100000   |  14.90000   |\n",
       "| quality | 3.00000     |  5.0000     |  6.00000    |  5.63602251 |  6.000000   |   8.00000   |\n",
       "\n"
      ],
      "text/plain": [
       "                     Min.    1st Qu. Median   Mean        3rd Qu.   Max.     \n",
       "fixed.acidity        4.60000  7.1000  7.90000  8.31963727  9.200000  15.90000\n",
       "volatile.acidity     0.12000  0.3900  0.52000  0.52782051  0.640000   1.58000\n",
       "citric.acid          0.00000  0.0900  0.26000  0.27097561  0.420000   1.00000\n",
       "residual.sugar       0.90000  1.9000  2.20000  2.53880550  2.600000  15.50000\n",
       "chlorides            0.01200  0.0700  0.07900  0.08746654  0.090000   0.61100\n",
       "free.sulfur.dioxide  1.00000  7.0000 14.00000 15.87492183 21.000000  72.00000\n",
       "total.sulfur.dioxide 6.00000 22.0000 38.00000 46.46779237 62.000000 289.00000\n",
       "density              0.99007  0.9956  0.99675  0.99674668  0.997835   1.00369\n",
       "pH                   2.74000  3.2100  3.31000  3.31111320  3.400000   4.01000\n",
       "sulphates            0.33000  0.5500  0.62000  0.65814884  0.730000   2.00000\n",
       "alcohol              8.40000  9.5000 10.20000 10.42298311 11.100000  14.90000\n",
       "quality              3.00000  5.0000  6.00000  5.63602251  6.000000   8.00000"
      ]
     },
     "metadata": {},
     "output_type": "display_data"
    }
   ],
   "source": [
    "t(do.call(cbind, lapply(wine, summary)))"
   ]
  },
  {
   "cell_type": "markdown",
   "id": "55a640f1-4626-4f58-9cbf-22dba30e793d",
   "metadata": {},
   "source": [
    "## Check Missing Values"
   ]
  },
  {
   "cell_type": "code",
   "execution_count": 3,
   "id": "bffc6d63-f006-470e-a68a-480fe20f6841",
   "metadata": {},
   "outputs": [
    {
     "data": {
      "text/html": [
       "<table>\n",
       "<tbody>\n",
       "\t<tr><th scope=row>fixed.acidity</th><td>0</td></tr>\n",
       "\t<tr><th scope=row>volatile.acidity</th><td>0</td></tr>\n",
       "\t<tr><th scope=row>citric.acid</th><td>0</td></tr>\n",
       "\t<tr><th scope=row>residual.sugar</th><td>0</td></tr>\n",
       "\t<tr><th scope=row>chlorides</th><td>0</td></tr>\n",
       "\t<tr><th scope=row>free.sulfur.dioxide</th><td>0</td></tr>\n",
       "\t<tr><th scope=row>total.sulfur.dioxide</th><td>0</td></tr>\n",
       "\t<tr><th scope=row>density</th><td>0</td></tr>\n",
       "\t<tr><th scope=row>pH</th><td>0</td></tr>\n",
       "\t<tr><th scope=row>sulphates</th><td>0</td></tr>\n",
       "\t<tr><th scope=row>alcohol</th><td>0</td></tr>\n",
       "\t<tr><th scope=row>quality</th><td>0</td></tr>\n",
       "</tbody>\n",
       "</table>\n"
      ],
      "text/latex": [
       "\\begin{tabular}{r|l}\n",
       "\tfixed.acidity & 0\\\\\n",
       "\tvolatile.acidity & 0\\\\\n",
       "\tcitric.acid & 0\\\\\n",
       "\tresidual.sugar & 0\\\\\n",
       "\tchlorides & 0\\\\\n",
       "\tfree.sulfur.dioxide & 0\\\\\n",
       "\ttotal.sulfur.dioxide & 0\\\\\n",
       "\tdensity & 0\\\\\n",
       "\tpH & 0\\\\\n",
       "\tsulphates & 0\\\\\n",
       "\talcohol & 0\\\\\n",
       "\tquality & 0\\\\\n",
       "\\end{tabular}\n"
      ],
      "text/markdown": [
       "\n",
       "| fixed.acidity | 0 |\n",
       "| volatile.acidity | 0 |\n",
       "| citric.acid | 0 |\n",
       "| residual.sugar | 0 |\n",
       "| chlorides | 0 |\n",
       "| free.sulfur.dioxide | 0 |\n",
       "| total.sulfur.dioxide | 0 |\n",
       "| density | 0 |\n",
       "| pH | 0 |\n",
       "| sulphates | 0 |\n",
       "| alcohol | 0 |\n",
       "| quality | 0 |\n",
       "\n"
      ],
      "text/plain": [
       "                     [,1]\n",
       "fixed.acidity        0   \n",
       "volatile.acidity     0   \n",
       "citric.acid          0   \n",
       "residual.sugar       0   \n",
       "chlorides            0   \n",
       "free.sulfur.dioxide  0   \n",
       "total.sulfur.dioxide 0   \n",
       "density              0   \n",
       "pH                   0   \n",
       "sulphates            0   \n",
       "alcohol              0   \n",
       "quality              0   "
      ]
     },
     "metadata": {},
     "output_type": "display_data"
    }
   ],
   "source": [
    "cbind(colSums(is.na(wine)))"
   ]
  },
  {
   "cell_type": "markdown",
   "id": "fbc678cd-29f5-48c8-af09-d2284398fb20",
   "metadata": {},
   "source": [
    "No missing values - good!"
   ]
  },
  {
   "cell_type": "markdown",
   "id": "268dec08-ce36-4ff8-b4b7-169ae4999bdd",
   "metadata": {},
   "source": [
    "## Check Distributions"
   ]
  },
  {
   "cell_type": "code",
   "execution_count": 4,
   "id": "2dbfe40e-a891-490f-9935-f85f1db46876",
   "metadata": {},
   "outputs": [
    {
     "data": {
      "image/png": "[encoded data removed]",
      "text/plain": [
       "Plot with title \"Histogram of wine$quality\""
      ]
     },
     "metadata": {},
     "output_type": "display_data"
    }
   ],
   "source": [
    "hist(wine$quality)"
   ]
  },
  {
   "cell_type": "markdown",
   "id": "62917ca2-47c4-4dcd-acab-14f41add163e",
   "metadata": {},
   "source": [
    "# Prepare Data for Model\n",
    "Convert the quality values into factors."
   ]
  },
  {
   "cell_type": "code",
   "execution_count": 14,
   "id": "1f31587b-8db4-4f7e-86c5-14c092162a19",
   "metadata": {},
   "outputs": [
    {
     "data": {
      "text/html": [
       "<ol class=list-inline>\n",
       "\t<li>'ordered'</li>\n",
       "\t<li>'factor'</li>\n",
       "</ol>\n"
      ],
      "text/latex": [
       "\\begin{enumerate*}\n",
       "\\item 'ordered'\n",
       "\\item 'factor'\n",
       "\\end{enumerate*}\n"
      ],
      "text/markdown": [
       "1. 'ordered'\n",
       "2. 'factor'\n",
       "\n",
       "\n"
      ],
      "text/plain": [
       "[1] \"ordered\" \"factor\" "
      ]
     },
     "metadata": {},
     "output_type": "display_data"
    }
   ],
   "source": [
    "wine$quality <- as.ordered(wine$quality)\n",
    "class(wine$quality)"
   ]
  },
  {
   "cell_type": "markdown",
   "id": "eb055715-966b-47d3-9ccb-01daadd2d4db",
   "metadata": {},
   "source": [
    "## Split Data Into Training and Testing"
   ]
  },
  {
   "cell_type": "code",
   "execution_count": 15,
   "id": "b43c41cf-8420-420e-911f-e2bf174f3712",
   "metadata": {},
   "outputs": [],
   "source": [
    "set.seed(123)\n",
    "samp <- sample(nrow(wine), 0.8 * nrow(wine))\n",
    "train <- wine[samp, ]\n",
    "test <- wine[-samp, ]"
   ]
  },
  {
   "cell_type": "markdown",
   "id": "c2087f27-6e60-45c7-9d05-6346a69b3666",
   "metadata": {},
   "source": [
    "# Build Model"
   ]
  },
  {
   "cell_type": "code",
   "execution_count": 16,
   "id": "a6060a30-86e0-47c5-a9e5-55616ea1ff65",
   "metadata": {},
   "outputs": [
    {
     "name": "stderr",
     "output_type": "stream",
     "text": [
      "randomForest 4.6-14\n",
      "Type rfNews() to see new features/changes/bug fixes.\n"
     ]
    },
    {
     "data": {
      "text/plain": [
       "\n",
       "Call:\n",
       " randomForest(formula = quality ~ ., data = train, ntree = 1000,      mtry = 5) \n",
       "               Type of random forest: classification\n",
       "                     Number of trees: 1000\n",
       "No. of variables tried at each split: 5\n",
       "\n",
       "        OOB estimate of  error rate: 31.67%\n",
       "Confusion matrix:\n",
       "  3 4   5   6  7 8 class.error\n",
       "3 0 1   7   0  0 0   1.0000000\n",
       "4 1 0  30  12  1 0   1.0000000\n",
       "5 0 2 424 102  4 0   0.2030075\n",
       "6 0 1 111 357 38 0   0.2958580\n",
       "7 0 0   8  69 93 2   0.4593023\n",
       "8 0 0   0   9  7 0   1.0000000"
      ]
     },
     "metadata": {},
     "output_type": "display_data"
    }
   ],
   "source": [
    "library(randomForest)\n",
    "\n",
    "model <- randomForest(quality ~ ., data = train, ntree = 1000, mtry = 5)\n",
    "\n",
    "model"
   ]
  },
  {
   "cell_type": "markdown",
   "id": "c28a834b-318d-4fa0-8b37-2127e218d7b6",
   "metadata": {},
   "source": [
    "## Make Predictions"
   ]
  },
  {
   "cell_type": "code",
   "execution_count": 17,
   "id": "51abfbfd-67b5-44e1-980d-3fa6097f7057",
   "metadata": {},
   "outputs": [
    {
     "data": {
      "text/plain": [
       "          \n",
       "prediction   3   4   5   6   7   8\n",
       "         3   0   0   0   0   0   0\n",
       "         4   0   0   0   0   0   0\n",
       "         5   1   7 116  30   0   0\n",
       "         6   1   2  30  95  11   1\n",
       "         7   0   0   3   6  16   0\n",
       "         8   0   0   0   0   0   1"
      ]
     },
     "metadata": {},
     "output_type": "display_data"
    }
   ],
   "source": [
    "prediction <- predict(model, newdata = test)\n",
    "\n",
    "table(prediction, test$quality)"
   ]
  },
  {
   "cell_type": "markdown",
   "id": "44a0ede8-2a03-4aaf-bc14-8e59d7dc0d85",
   "metadata": {},
   "source": [
    "Calculate model accuracy."
   ]
  },
  {
   "cell_type": "code",
   "execution_count": 18,
   "id": "0e8b7123-e76d-4c33-b15e-665911e06bcb",
   "metadata": {},
   "outputs": [
    {
     "ename": "ERROR",
     "evalue": "Error in library(caret): there is no package called 'caret'\n",
     "output_type": "error",
     "traceback": [
      "Error in library(caret): there is no package called 'caret'\nTraceback:\n",
      "1. library(caret)"
     ]
    }
   ],
   "source": [
    "library(caret)\n",
    "\n",
    "confusionMatrix(prediction, test$quality)"
   ]
  },
  {
   "cell_type": "code",
   "execution_count": null,
   "id": "f5a4ea55-84b0-4017-97ce-8af9b809f836",
   "metadata": {},
   "outputs": [],
   "source": [
    "summary(train$quality) * 100 / length(train$quality)"
   ]
  },
  {
   "cell_type": "code",
   "execution_count": null,
   "id": "0cfce8b3-b798-49df-bc92-77d59f0f2e1c",
   "metadata": {},
   "outputs": [],
   "source": [
    "summary(test$quality) * 100 / length(test$quality)"
   ]
  },
  {
   "cell_type": "markdown",
   "id": "1fea7a12-de25-4b63-92d4-b094b32951ee",
   "metadata": {},
   "source": [
    "# Conclusion\n",
    "Overall model performance seems good - accuracy is 90%, but the model does a poor job of correctly classifying 'bad' tasting wine (sensitivity = 9%) and only a moderate job at correctly classifying 'good' wine (sensitivity = 62%). The model seems to be favoring the prediction of 'normal' taste, which is expected since that class is overrepresented. If the model decided to predict all test data as 'normal' it would have an accuracy of 87.5%, only slightly less than the score it actually achieved.\n",
    "\n",
    "This model would be best suited for predicting which wines have 'normal' taste."
   ]
  },
  {
   "cell_type": "markdown",
   "id": "b6e95c5d-96cb-4268-aa15-910fea9b703a",
   "metadata": {},
   "source": [
    "## Reference\n",
    "True Positive (for Class X): Number of subject which have been correctly classified as class x.  \n",
    "All Positives (for Class X): Number of subjects actually in class x.  \n",
    "True Negatives (for Class X): Number of subjects which have been correctly classified as not class x.  \n",
    "All Negatives (for Class X): Number of subjects actually not in class X.\n",
    "\n",
    "$$\n",
    "\\text{Sensitivity} = \\frac{\\text{True Positives}}{\\text{All Positives}}\n",
    "$$\n",
    "$$\n",
    "\\text{Specificity} = \\frac{\\text{True Negatives}}{\\text{All Negatives}}\n",
    "$$"
   ]
  },
  {
   "cell_type": "code",
   "execution_count": null,
   "id": "549f7c30-391b-4b5e-8989-dc95f8ca8e83",
   "metadata": {},
   "outputs": [],
   "source": []
  }
 ],
 "metadata": {
  "kernelspec": {
   "display_name": "R",
   "language": "R",
   "name": "ir"
  },
  "language_info": {
   "codemirror_mode": "r",
   "file_extension": ".r",
   "mimetype": "text/x-r-source",
   "name": "R",
   "pygments_lexer": "r",
   "version": "3.6.1"
  },
  "toc-showcode": false,
  "toc-showmarkdowntxt": false
 },
 "nbformat": 4,
 "nbformat_minor": 5
}
